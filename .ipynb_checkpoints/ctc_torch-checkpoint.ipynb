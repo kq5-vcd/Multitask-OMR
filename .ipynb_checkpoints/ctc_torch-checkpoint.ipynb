{
 "cells": [
  {
   "cell_type": "code",
   "execution_count": 1,
   "metadata": {},
   "outputs": [],
   "source": [
    "import cv2\n",
    "import matplotlib.pyplot as plt\n",
    "import numpy as np\n",
    "import random\n",
    "\n",
    "import torch\n",
    "import torch.nn as nn\n",
    "import torch.nn.functional as F\n",
    "import torch.optim as optim\n",
    "from torch.autograd import Variable\n",
    "\n",
    "import os\n",
    "import gc\n",
    "gc.enable()"
   ]
  },
  {
   "cell_type": "code",
   "execution_count": 2,
   "metadata": {},
   "outputs": [],
   "source": [
    "torch.backends.cudnn.benchmark = True\n",
    "torch.backends.cudnn.enabled = True"
   ]
  },
  {
   "cell_type": "code",
   "execution_count": 3,
   "metadata": {},
   "outputs": [],
   "source": [
    "device = 'cuda' if torch.cuda.is_available() else 'cpu'\n",
    "#assert device == 'cuda:0' "
   ]
  },
  {
   "cell_type": "code",
   "execution_count": 4,
   "metadata": {},
   "outputs": [],
   "source": [
    "def normalize(image):\n",
    "    return (255. - image)/255.\n",
    "\n",
    "\n",
    "def resize(image, height):\n",
    "    #new_width = old_width * (new_height/old_height)\n",
    "    width = int(float(height * image.shape[1]) / image.shape[0]) \n",
    "    sample_img = cv2.resize(image, (width, height))\n",
    "    \n",
    "    del width\n",
    "    \n",
    "    return sample_img"
   ]
  },
  {
   "cell_type": "code",
   "execution_count": 5,
   "metadata": {},
   "outputs": [],
   "source": [
    "def levenshtein(a,b):\n",
    "    \"Computes the Levenshtein distance between a and b.\"\n",
    "    n, m = len(a), len(b)\n",
    "\n",
    "    if n > m:\n",
    "        a,b = b,a\n",
    "        n,m = m,n\n",
    "\n",
    "    current = range(n+1)\n",
    "    for i in range(1,m+1):\n",
    "        previous, current = current, [i]+[0]*n\n",
    "        for j in range(1,n+1):\n",
    "            add, delete = previous[j]+1, current[j-1]+1\n",
    "            change = previous[j-1]\n",
    "            if a[j-1] != b[i-1]:\n",
    "                change = change + 1\n",
    "            current[j] = min(add, delete, change)\n",
    "            \n",
    "    del a\n",
    "    del b\n",
    "\n",
    "    return current[n]"
   ]
  },
  {
   "cell_type": "code",
   "execution_count": 6,
   "metadata": {},
   "outputs": [],
   "source": [
    "def levenshtein_pct(a,b):\n",
    "    max_len = max(len(a), len(b))\n",
    "    \n",
    "    return levenshtein(a,b)/max_len"
   ]
  },
  {
   "cell_type": "code",
   "execution_count": 7,
   "metadata": {},
   "outputs": [],
   "source": [
    "def sequence_levenshtein(a,b):\n",
    "    n, m = len(a), len(b)\n",
    "    dist = 0\n",
    "\n",
    "    if n > m:\n",
    "        a,b = b,a\n",
    "        n,m = m,n\n",
    "        \n",
    "    for i in range(n):\n",
    "        word = a[i]\n",
    "        \n",
    "        b_seq = b[:len(b)-n+i+1]\n",
    "        \n",
    "        seq_dist = [levenshtein_pct(word, x) for x in b_seq]\n",
    "        best_val = min(seq_dist)\n",
    "        dest_idx = seq_dist.index(best_val)\n",
    "        \n",
    "        dist += dest_idx + best_val\n",
    "        \n",
    "        if i == n - 1:\n",
    "            dist += len(b) - dest_idx - 1\n",
    "            break\n",
    "            \n",
    "        b = b[dest_idx+1:]\n",
    "            \n",
    "\n",
    "    return dist/m"
   ]
  },
  {
   "cell_type": "code",
   "execution_count": 8,
   "metadata": {},
   "outputs": [],
   "source": [
    "def tensor_to_np_array(t):\n",
    "    t = t.cpu().detach().numpy()\n",
    "    \n",
    "    return t"
   ]
  },
  {
   "cell_type": "code",
   "execution_count": 9,
   "metadata": {},
   "outputs": [],
   "source": [
    "def np_to_string(arr, int2word, blank):\n",
    "    result = []\n",
    "    for i in range(len(arr)):\n",
    "        if arr[i] != blank:\n",
    "            if i == 0 or arr[i] != arr[i-1]:\n",
    "                result.append(int2word[arr[i]])\n",
    "            \n",
    "    return result"
   ]
  },
  {
   "cell_type": "code",
   "execution_count": 10,
   "metadata": {},
   "outputs": [],
   "source": [
    "def load_symbols(dict_path):\n",
    "    word2int = {} #map symbols to numeric values\n",
    "    int2word = {} #map numeric values to symbols\n",
    "\n",
    "    dict_file = open(dict_path,'r')\n",
    "    dict_list = dict_file.read().splitlines()\n",
    "    \n",
    "    for word in dict_list:\n",
    "        if not word in word2int:\n",
    "            word_idx = len(word2int)\n",
    "            word2int[word] = word_idx\n",
    "            int2word[word_idx] = word\n",
    "\n",
    "    dict_file.close()\n",
    "    \n",
    "    del dict_file\n",
    "    \n",
    "    return (word2int, int2word, len(int2word))"
   ]
  },
  {
   "cell_type": "code",
   "execution_count": 11,
   "metadata": {},
   "outputs": [],
   "source": [
    "class PriMuS:\n",
    "    # Data preprocessor/loader for the model\n",
    "    gt_element_separator = '-'\n",
    "    PAD_COLUMN = 0\n",
    "\n",
    "\n",
    "    def __init__(self, corpus_dirpath, corpus_path, word2int, semantic, \n",
    "                 img_height, batch_size, img_channels, \n",
    "                 train_split=0.5, test_split=0.5, shuffle=True,\n",
    "                 distorted=False\n",
    "                ):\n",
    "        corpus_file = open(corpus_path,'r')\n",
    "        corpus_list = corpus_file.read().splitlines()\n",
    "        corpus_file.close()\n",
    "        \n",
    "        del corpus_file\n",
    "\n",
    "        # Train and validation split\n",
    "        if shuffle:\n",
    "            random.shuffle(corpus_list) \n",
    "            \n",
    "        train_idx = int(len(corpus_list) * train_split) \n",
    "        test_idx = int(len(corpus_list) * test_split) \n",
    "\n",
    "        self.training_list = corpus_list[:train_idx]\n",
    "        self.validation_list = corpus_list[train_idx:-test_idx]\n",
    "        self.test_list = corpus_list[-test_idx:]\n",
    "        \n",
    "        del train_idx\n",
    "        del test_idx\n",
    "\n",
    "        print ('Training with ' + str(len(self.training_list)) + ', validating with ' \n",
    "               + str(len(self.validation_list)) + ', and testing with ' + str(len(self.test_list)))\n",
    "        \n",
    "        self.semantic = semantic\n",
    "        self.corpus_dirpath = corpus_dirpath\n",
    "        self.distorted = distorted\n",
    "        \n",
    "        self.current_idx = 0 #identify current index in list of samples\n",
    "        self.current_eval_idx = 0\n",
    "        self.current_test_idx = 0\n",
    "\n",
    "        # Dictionary\n",
    "        self.word2int = word2int #map symbols to numeric values\n",
    "\n",
    "        self.vocabulary_size = len(self.word2int)\n",
    "        \n",
    "        self.img_height = img_height\n",
    "        self.batch_size = batch_size\n",
    "        self.img_channels = img_channels\n",
    "        \n",
    "        self.training_iterations = int(len(self.training_list)/self.batch_size) + 1\n",
    "        self.eval_iterations = int(len(self.validation_list)/self.batch_size) + 1\n",
    "        self.test_iterations = int(len(self.test_list)/self.batch_size) + 1\n",
    "        \n",
    "    \n",
    "    def load_data(self, filepath):\n",
    "        sample_fullpath = self.corpus_dirpath + '/' + filepath + '/' + filepath\n",
    "        #print(sample_filepath)\n",
    "\n",
    "        # IMAGE\n",
    "        img_src = sample_fullpath + '_distorted.jpg' if self.distorted else sample_fullpath + '.png'\n",
    "        image = cv2.imread(img_src, False)  # Grayscale is assumed!\n",
    "        \n",
    "        del img_src\n",
    "        \n",
    "        image = resize(image, self.img_height)\n",
    "        image = normalize(image)\n",
    "        \n",
    "\n",
    "        # GROUND TRUTH\n",
    "        if self.semantic:\n",
    "            sample_full_filepath = sample_fullpath + '.semantic'\n",
    "        else:\n",
    "            sample_full_filepath = sample_fullpath + '.agnostic'\n",
    "\n",
    "        sample_gt_file = open(sample_full_filepath, 'r')\n",
    "        sample_gt_plain = sample_gt_file.readline().rstrip().split('\\t')\n",
    "        sample_gt_file.close()\n",
    "        \n",
    "        del sample_fullpath\n",
    "\n",
    "        label = [self.word2int[lab] for lab in sample_gt_plain] #label: list of numeric values\n",
    "        \n",
    "        del sample_gt_plain\n",
    "        \n",
    "        return (image, label)\n",
    "    \n",
    "    \n",
    "    def transform_to_batch(self, images):\n",
    "        # Extend all images to match the longest in the batch\n",
    "        image_widths = [img.shape[1] for img in images]\n",
    "        max_image_width = max(image_widths)\n",
    "        \n",
    "        del image_widths\n",
    "\n",
    "        batch_images = np.ones(shape=[len(images),\n",
    "                                      self.img_channels,\n",
    "                                      self.img_height,\n",
    "                                      max_image_width], dtype=np.float32)*self.PAD_COLUMN\n",
    "        # batch shape: (b, c, h, w)\n",
    "        \n",
    "        del max_image_width\n",
    "\n",
    "        for i, img in enumerate(images):\n",
    "            batch_images[i, 0, 0:img.shape[0], 0:img.shape[1]] = img\n",
    "        # shorter images will be padded\n",
    "\n",
    "        return batch_images\n",
    "\n",
    "        \n",
    "    def next_batch(self, phase=\"train\"):\n",
    "        # Create a batch\n",
    "        images = [] \n",
    "        labels = []\n",
    "\n",
    "        if phase == \"train\":\n",
    "            for _ in range(self.batch_size):\n",
    "                image, label = self.load_data(self.training_list[self.current_idx])\n",
    "                images.append(image)\n",
    "                labels.append(label)\n",
    "\n",
    "                self.current_idx = (self.current_idx + 1) % len(self.training_list) #increment index, turn back to beginning if overflow\n",
    "        elif phase == \"eval\":\n",
    "            for _ in range(self.batch_size):\n",
    "                image, label = self.load_data(self.validation_list[self.current_eval_idx])\n",
    "                images.append(image)\n",
    "                labels.append(label)\n",
    "                \n",
    "                self.current_eval_idx = (self.current_eval_idx + 1) % len(self.validation_list)\n",
    "        elif phase == \"test\":\n",
    "            for _ in range(self.batch_size):\n",
    "                image, label = self.load_data(self.test_list[self.current_test_idx])\n",
    "                images.append(image)\n",
    "                labels.append(label)\n",
    "            \n",
    "                self.current_test_idx = (self.current_test_idx + 1) % len(self.test_list)\n",
    "\n",
    "        # Transform to batch\n",
    "        batch_images = self.transform_to_batch(images)\n",
    "        target_lengths = [len(x) for x in labels]\n",
    "        \n",
    "        flattened_labels = []\n",
    "        for label in labels:\n",
    "            flattened_labels += label\n",
    "            \n",
    "        del labels\n",
    "        \n",
    "        batch_images = torch.from_numpy(batch_images).to(device)\n",
    "        labels = torch.tensor(flattened_labels).to(device)\n",
    "        target_lengths = torch.tensor(target_lengths, dtype=torch.int32).to(device)\n",
    "\n",
    "        return (batch_images, labels, target_lengths)"
   ]
  },
  {
   "cell_type": "code",
   "execution_count": 12,
   "metadata": {},
   "outputs": [],
   "source": [
    "class BidirectionalLSTM(nn.Module):\n",
    "\n",
    "    def __init__(self, nIn, nHidden, nOut, dropout=0):\n",
    "        super(BidirectionalLSTM, self).__init__()\n",
    "\n",
    "        self.rnn = nn.LSTM(nIn, nHidden, bidirectional=True, dropout=dropout)\n",
    "        self.embedding = nn.Linear(nHidden * 2, nOut)\n",
    "        \n",
    "\n",
    "    def forward(self, input):\n",
    "        recurrent, _ = self.rnn(input)\n",
    "        T, b, h = recurrent.size()\n",
    "        t_rec = recurrent.view(T * b, h)\n",
    "        \n",
    "        del h\n",
    "        del recurrent\n",
    "\n",
    "        output = self.embedding(t_rec)  # [T * b, nOut]\n",
    "        output = output.view(T, b, -1)\n",
    "        \n",
    "        del T\n",
    "        del b\n",
    "\n",
    "        return output\n",
    "\n",
    "\n",
    "class CRNN(nn.Module):\n",
    "\n",
    "    def __init__(self, input_size, img_height, nclass, conv_layers, rnn_hidden_states, dropout=0.5, kernel_size=3, pooling_size=2):\n",
    "        super(CRNN, self).__init__()\n",
    "        assert img_height % 16 == 0, 'img_height has to be a multiple of 16'\n",
    "\n",
    "        self.cnn = nn.Sequential()\n",
    "        for i in range(len(conv_layers)):\n",
    "            input_channels = input_size if i == 0 else conv_layers[i-1]\n",
    "            output_channels = conv_layers[i]\n",
    "\n",
    "            self.cnn.add_module('conv{0}'.format(i),\n",
    "                                nn.Conv2d(input_channels, output_channels, kernel_size=kernel_size, padding = 1))\n",
    "            self.cnn.add_module('batchnorm{0}'.format(i), nn.BatchNorm2d(output_channels))\n",
    "            self.cnn.add_module('relu{0}'.format(i), nn.LeakyReLU(0.2, inplace=True))\n",
    "            self.cnn.add_module('pooling{0}'.format(i), nn.MaxPool2d(pooling_size, 2))\n",
    "            \n",
    "            del input_channels\n",
    "            del output_channels\n",
    "            \n",
    "        self.rnn = nn.Sequential()\n",
    "        for i in range(len(rnn_hidden_states)):\n",
    "            inC = conv_layers[-1] if i == 0 else rnn_hidden_states[i-1]\n",
    "            \n",
    "            if i < len(rnn_hidden_states) - 1:\n",
    "                self.rnn.add_module('BiLSTM{0}'.format(i), \n",
    "                                    BidirectionalLSTM(inC, rnn_hidden_states[i], \n",
    "                                                      rnn_hidden_states[i], dropout=dropout))\n",
    "            else:\n",
    "                self.rnn.add_module('BiLSTM{0}'.format(i), \n",
    "                                    BidirectionalLSTM(inC, rnn_hidden_states[i], nclass))\n",
    "                \n",
    "            del inC\n",
    "        \n",
    "\n",
    "    def forward(self, input):\n",
    "        # conv features\n",
    "        conv = self.cnn(input)\n",
    "        b, c, h, w = conv.size()\n",
    "        conv = conv.view(b, c, -1)\n",
    "        conv = conv.permute(2, 0, 1)  # [w, b, c]\n",
    "        #print(conv.size())\n",
    "        \n",
    "        del b\n",
    "        del c\n",
    "        del h\n",
    "        del w\n",
    "\n",
    "        # rnn features\n",
    "        output = self.rnn(conv)\n",
    "        #print(output.size())\n",
    "\n",
    "        return output"
   ]
  },
  {
   "cell_type": "code",
   "execution_count": 13,
   "metadata": {},
   "outputs": [],
   "source": [
    "#Train model\n",
    "corpus = 'Data/Corpus' #Path to the corpus\n",
    "set_path = 'Data/Corpus_list.txt' #Path to the set file\n",
    "save_model = 'Models/trained_agnostic_model.pth' #Path to save the model\n",
    "vocabulary = 'Data/vocabulary_agnostic.txt' #Path to the vocabulary file\n",
    "semantic = False\n",
    "\n",
    "train_split = 0.7\n",
    "test_split = 0.1"
   ]
  },
  {
   "cell_type": "code",
   "execution_count": 14,
   "metadata": {},
   "outputs": [],
   "source": [
    "word2int, int2word, vocab_size = load_symbols(vocabulary)"
   ]
  },
  {
   "cell_type": "code",
   "execution_count": 15,
   "metadata": {},
   "outputs": [],
   "source": [
    "img_height = 128\n",
    "img_width = None\n",
    "batch_size = 4\n",
    "img_channels = 1\n",
    "conv_channels = [32, 64, 128, 256]\n",
    "conv_filter_size = 3\n",
    "conv_pooling_size = 2\n",
    "rnn_hidden_states = [256,256]"
   ]
  },
  {
   "cell_type": "code",
   "execution_count": 16,
   "metadata": {},
   "outputs": [],
   "source": [
    "# Parameterization\n",
    "epochs = 5\n",
    "dropout = 0.5\n",
    "nclasses = vocab_size + 1\n",
    "input_size = 1\n",
    "\n",
    "prepared = False"
   ]
  },
  {
   "cell_type": "code",
   "execution_count": 17,
   "metadata": {},
   "outputs": [
    {
     "name": "stderr",
     "output_type": "stream",
     "text": [
      "C:\\Users\\ADMIN\\anaconda3\\envs\\bkai\\lib\\site-packages\\torch\\nn\\modules\\rnn.py:58: UserWarning: dropout option adds dropout after all but last recurrent layer, so non-zero dropout expects num_layers greater than 1, but got dropout=0.5 and num_layers=1\n",
      "  warnings.warn(\"dropout option adds dropout after all but last \"\n"
     ]
    },
    {
     "name": "stdout",
     "output_type": "stream",
     "text": [
      "CRNN(\n",
      "  (cnn): Sequential(\n",
      "    (conv0): Conv2d(1, 32, kernel_size=(3, 3), stride=(1, 1), padding=(1, 1))\n",
      "    (batchnorm0): BatchNorm2d(32, eps=1e-05, momentum=0.1, affine=True, track_running_stats=True)\n",
      "    (relu0): LeakyReLU(negative_slope=0.2, inplace=True)\n",
      "    (pooling0): MaxPool2d(kernel_size=2, stride=2, padding=0, dilation=1, ceil_mode=False)\n",
      "    (conv1): Conv2d(32, 64, kernel_size=(3, 3), stride=(1, 1), padding=(1, 1))\n",
      "    (batchnorm1): BatchNorm2d(64, eps=1e-05, momentum=0.1, affine=True, track_running_stats=True)\n",
      "    (relu1): LeakyReLU(negative_slope=0.2, inplace=True)\n",
      "    (pooling1): MaxPool2d(kernel_size=2, stride=2, padding=0, dilation=1, ceil_mode=False)\n",
      "    (conv2): Conv2d(64, 128, kernel_size=(3, 3), stride=(1, 1), padding=(1, 1))\n",
      "    (batchnorm2): BatchNorm2d(128, eps=1e-05, momentum=0.1, affine=True, track_running_stats=True)\n",
      "    (relu2): LeakyReLU(negative_slope=0.2, inplace=True)\n",
      "    (pooling2): MaxPool2d(kernel_size=2, stride=2, padding=0, dilation=1, ceil_mode=False)\n",
      "    (conv3): Conv2d(128, 256, kernel_size=(3, 3), stride=(1, 1), padding=(1, 1))\n",
      "    (batchnorm3): BatchNorm2d(256, eps=1e-05, momentum=0.1, affine=True, track_running_stats=True)\n",
      "    (relu3): LeakyReLU(negative_slope=0.2, inplace=True)\n",
      "    (pooling3): MaxPool2d(kernel_size=2, stride=2, padding=0, dilation=1, ceil_mode=False)\n",
      "  )\n",
      "  (rnn): Sequential(\n",
      "    (BiLSTM0): BidirectionalLSTM(\n",
      "      (rnn): LSTM(256, 256, dropout=0.5, bidirectional=True)\n",
      "      (embedding): Linear(in_features=512, out_features=256, bias=True)\n",
      "    )\n",
      "    (BiLSTM1): BidirectionalLSTM(\n",
      "      (rnn): LSTM(256, 256, bidirectional=True)\n",
      "      (embedding): Linear(in_features=512, out_features=759, bias=True)\n",
      "    )\n",
      "  )\n",
      ")\n"
     ]
    }
   ],
   "source": [
    "model = CRNN(input_size, img_height, nclasses, \n",
    "             conv_channels, \n",
    "             rnn_hidden_states, \n",
    "             dropout=dropout)\n",
    "\n",
    "if torch.cuda.is_available():\n",
    "    model.to(device)\n",
    "    \n",
    "if prepared:\n",
    "    model.load_state_dict(torch.load(save_model))\n",
    "    \n",
    "loss_function = nn.CTCLoss(blank=vocab_size)\n",
    "optimizer = torch.optim.Adam(model.parameters(), lr=0.001)\n",
    "\n",
    "print(model)"
   ]
  },
  {
   "cell_type": "code",
   "execution_count": 18,
   "metadata": {},
   "outputs": [
    {
     "name": "stdout",
     "output_type": "stream",
     "text": [
      "Training with 61374, validating with 17537, and testing with 8767\n"
     ]
    }
   ],
   "source": [
    "# Load primus\n",
    "primus = PriMuS(corpus, set_path, word2int, semantic, img_height, \n",
    "                batch_size, img_channels, \n",
    "                train_split=train_split, test_split=test_split, shuffle=False, distorted=False)"
   ]
  },
  {
   "cell_type": "code",
   "execution_count": 19,
   "metadata": {},
   "outputs": [],
   "source": [
    "def train(model, optimizer, dataloader, epochs, checkpoint):\n",
    "    ctc_train = []\n",
    "    ctc_eval = []\n",
    "    \n",
    "    best_val = 10000\n",
    "\n",
    "    for epoch in range(epochs):  \n",
    "        print(\"Epoch:\", epoch+1)\n",
    "        \n",
    "        for i in range(dataloader.training_iterations):\n",
    "            batch, labels, label_lengths = dataloader.next_batch()\n",
    "\n",
    "            model.train()\n",
    "            optimizer.zero_grad()\n",
    "\n",
    "            preds = model(batch).log_softmax(2)\n",
    "            batch_lengths = Variable(torch.IntTensor([preds.size(0)] * preds.size(1))).to(device)\n",
    "\n",
    "            del batch\n",
    "\n",
    "            loss = loss_function(preds, labels.detach(), batch_lengths.detach(), label_lengths.detach())\n",
    "\n",
    "            del labels\n",
    "            del batch_lengths\n",
    "            del label_lengths\n",
    "\n",
    "            loss.backward()\n",
    "            optimizer.step()\n",
    "            \n",
    "            del preds\n",
    "            \n",
    "            if i % 100 == 99 or i == dataloader.training_iterations - 1:\n",
    "                ctc_train.append(loss.item()) \n",
    "                print(f'Iteration: {i+1:4}\\nLoss: {ctc_train[-1]:10.8f}')\n",
    "            del loss\n",
    "\n",
    "            if i % 100 == 99 or i == dataloader.training_iterations - 1:\n",
    "                model.eval()\n",
    "                with torch.no_grad():\n",
    "                    eval_data, eval_labels, eval_label_lengths = dataloader.next_batch(\"eval\")\n",
    "\n",
    "                    eval_preds = model(eval_data).log_softmax(2)\n",
    "\n",
    "                    del eval_data\n",
    "\n",
    "                    eval_lengths = Variable(torch.IntTensor([eval_preds.size(0)] * eval_preds.size(1))).to(device)\n",
    "                    error = loss_function(eval_preds, eval_labels.detach(), eval_lengths.detach(), eval_label_lengths.detach())\n",
    "\n",
    "                    del eval_labels\n",
    "                    del eval_label_lengths\n",
    "                    del eval_lengths\n",
    "                    del eval_preds\n",
    "\n",
    "                    err = error.item()\n",
    "                    del error\n",
    "                        \n",
    "                    ctc_eval.append(err)\n",
    "\n",
    "                    if err < best_val:\n",
    "                        best_val = err\n",
    "                        torch.save(model.state_dict(), checkpoint)\n",
    "\n",
    "                print(f'Validation loss: {err:10.8f}')\n",
    "                del err\n",
    "        \n",
    "    return (ctc_train, ctc_eval)"
   ]
  },
  {
   "cell_type": "code",
   "execution_count": null,
   "metadata": {},
   "outputs": [
    {
     "name": "stdout",
     "output_type": "stream",
     "text": [
      "Epoch: 1\n",
      "Iteration:  100\n",
      "Loss: 5.35525179\n",
      "Validation loss: 6.34987783\n",
      "Iteration:  200\n",
      "Loss: 5.56596756\n",
      "Validation loss: 5.13813686\n",
      "Iteration:  300\n",
      "Loss: 6.24147892\n",
      "Validation loss: 5.67677116\n",
      "Iteration:  400\n",
      "Loss: 5.66753387\n",
      "Validation loss: 4.81348991\n",
      "Iteration:  500\n",
      "Loss: 5.37490940\n",
      "Validation loss: 5.08137321\n",
      "Iteration:  600\n",
      "Loss: 5.15084887\n",
      "Validation loss: 5.68931341\n",
      "Iteration:  700\n",
      "Loss: 5.18947983\n",
      "Validation loss: 5.14624310\n",
      "Iteration:  800\n",
      "Loss: 5.63781834\n",
      "Validation loss: 5.26678514\n",
      "Iteration:  900\n",
      "Loss: 5.58652878\n",
      "Validation loss: 4.59546185\n",
      "Iteration: 1000\n",
      "Loss: 4.87999439\n",
      "Validation loss: 4.86972904\n",
      "Iteration: 1100\n",
      "Loss: 4.87011957\n",
      "Validation loss: 4.52744627\n",
      "Iteration: 1200\n",
      "Loss: 5.91472149\n",
      "Validation loss: 5.26283407\n",
      "Iteration: 1300\n",
      "Loss: 5.47017145\n",
      "Validation loss: 5.07162476\n",
      "Iteration: 1400\n",
      "Loss: 5.21733665\n",
      "Validation loss: 5.70424604\n",
      "Iteration: 1500\n",
      "Loss: 5.35865784\n",
      "Validation loss: 4.61903381\n",
      "Iteration: 1600\n",
      "Loss: 4.94592714\n",
      "Validation loss: 5.64865875\n",
      "Iteration: 1700\n",
      "Loss: 4.31346321\n",
      "Validation loss: 4.45971107\n",
      "Iteration: 1800\n",
      "Loss: 4.45853758\n",
      "Validation loss: 4.51353312\n",
      "Iteration: 1900\n",
      "Loss: 4.66673422\n",
      "Validation loss: 4.80331039\n",
      "Iteration: 2000\n",
      "Loss: 4.42792892\n",
      "Validation loss: 4.87086582\n",
      "Iteration: 2100\n",
      "Loss: 5.00930405\n",
      "Validation loss: 4.36726952\n",
      "Iteration: 2200\n",
      "Loss: 4.71753454\n",
      "Validation loss: 4.78767061\n",
      "Iteration: 2300\n",
      "Loss: 4.98187733\n",
      "Validation loss: 5.11564922\n",
      "Iteration: 2400\n",
      "Loss: 4.33501101\n",
      "Validation loss: 4.76269436\n",
      "Iteration: 2500\n",
      "Loss: 4.22149658\n",
      "Validation loss: 4.49398518\n",
      "Iteration: 2600\n",
      "Loss: 4.30098963\n",
      "Validation loss: 4.65585804\n",
      "Iteration: 2700\n",
      "Loss: 4.88413668\n",
      "Validation loss: 4.75801229\n",
      "Iteration: 2800\n",
      "Loss: 4.27182579\n",
      "Validation loss: 4.87762737\n",
      "Iteration: 2900\n",
      "Loss: 4.45735645\n",
      "Validation loss: 4.23173475\n",
      "Iteration: 3000\n",
      "Loss: 4.99044609\n",
      "Validation loss: 4.94517517\n",
      "Iteration: 3100\n",
      "Loss: 5.53475094\n",
      "Validation loss: 4.35895252\n",
      "Iteration: 3200\n",
      "Loss: 3.88441324\n",
      "Validation loss: 4.47792292\n"
     ]
    }
   ],
   "source": [
    "ctc_train, ctc_eval = train(model, optimizer, primus, epochs, save_model)"
   ]
  },
  {
   "cell_type": "code",
   "execution_count": null,
   "metadata": {},
   "outputs": [],
   "source": [
    "iterations = [100*x for x in range(len(ctc_train))]\n",
    "\n",
    "plt.plot(iterations, ctc_train, label='Training')\n",
    "plt.plot(iterations, ctc_eval, label='Validation')\n",
    "\n",
    "plt.title('CTC Loss')\n",
    "plt.xlabel('Iterations')\n",
    "plt.ylabel('Loss')\n",
    "plt.legend()\n",
    "\n",
    "plt.show()"
   ]
  },
  {
   "cell_type": "code",
   "execution_count": null,
   "metadata": {},
   "outputs": [],
   "source": [
    "def test(model, dataloader):\n",
    "    with torch.no_grad():\n",
    "        seq_err = 0\n",
    "        symbol_err = 0\n",
    "        symbol_pct_err = 0\n",
    "\n",
    "        total_length = 0\n",
    "\n",
    "        for _ in range(dataloader.test_iterations):\n",
    "            test_batch, test_labels, test_label_lengths = dataloader.next_batch(\"test\")\n",
    "\n",
    "            test_preds = model(test_batch).log_softmax(2).argmax(2)\n",
    "            del test_batch\n",
    "\n",
    "            test_labels = tensor_to_np_array(test_labels)\n",
    "            test_label_lengths = tensor_to_np_array(test_label_lengths)\n",
    "            test_preds = tensor_to_np_array(test_preds).transpose(1,0)\n",
    "\n",
    "            curr_idx = 0\n",
    "            for i in range(dataloader.batch_size):\n",
    "                length = test_label_lengths[i]\n",
    "                \n",
    "                pred = test_preds[i]\n",
    "                label = test_labels[curr_idx:curr_idx+length]\n",
    "                \n",
    "                pred = np_to_string(pred, int2word, vocab_size)\n",
    "                label = [int2word[x] for x in label]\n",
    "\n",
    "                err = levenshtein(pred, label)\n",
    "                if err > 0:\n",
    "                    seq_err += 1\n",
    "\n",
    "                symbol_err += err\n",
    "                symbol_pct_err += sequence_levenshtein(pred, label)\n",
    "\n",
    "                curr_idx += length\n",
    "                total_length += length\n",
    "\n",
    "\n",
    "            del test_labels\n",
    "            del test_preds\n",
    "            del test_label_lengths\n",
    "\n",
    "        seq_err /= dataloader.test_iterations * dataloader.batch_size\n",
    "        symbol_err /= total_length\n",
    "        symbol_pct_err /= total_length\n",
    "        \n",
    "        del total_length\n",
    "\n",
    "        return(seq_err, symbol_err, symbol_pct_err)"
   ]
  },
  {
   "cell_type": "code",
   "execution_count": null,
   "metadata": {},
   "outputs": [],
   "source": [
    "test(model, primus)"
   ]
  },
  {
   "cell_type": "code",
   "execution_count": 23,
   "metadata": {},
   "outputs": [],
   "source": [
    "test_batch, test_labels, test_label_lengths = primus.next_batch(\"test\")"
   ]
  },
  {
   "cell_type": "code",
   "execution_count": 24,
   "metadata": {},
   "outputs": [
    {
     "data": {
      "text/plain": [
       "<matplotlib.image.AxesImage at 0x24d0b73ca30>"
      ]
     },
     "execution_count": 24,
     "metadata": {},
     "output_type": "execute_result"
    },
    {
     "data": {
      "image/png": "[encoded data removed]",
      "text/plain": [
       "<Figure size 432x288 with 1 Axes>"
      ]
     },
     "metadata": {
      "needs_background": "light"
     },
     "output_type": "display_data"
    }
   ],
   "source": [
    "plt.imshow(test_batch.cpu().reshape((img_height*batch_size, -1)))"
   ]
  },
  {
   "cell_type": "code",
   "execution_count": 25,
   "metadata": {},
   "outputs": [
    {
     "data": {
      "text/plain": [
       "tensor([[   1,   10,    1,   10],\n",
       "        [ 234,  228,  223,  223],\n",
       "        [1779, 1780, 1751, 1751],\n",
       "        ...,\n",
       "        [1781, 1781, 1781, 1781],\n",
       "        [1781, 1781, 1781, 1781],\n",
       "        [1781, 1781, 1781, 1781]], device='cuda:0')"
      ]
     },
     "execution_count": 25,
     "metadata": {},
     "output_type": "execute_result"
    }
   ],
   "source": [
    "test_preds = model(test_batch).log_softmax(2).argmax(2)\n",
    "pred_length = test_preds.size(0)\n",
    "batch = test_preds.size(1)\n",
    "\n",
    "test_preds"
   ]
  },
  {
   "cell_type": "code",
   "execution_count": 26,
   "metadata": {},
   "outputs": [
    {
     "data": {
      "text/plain": [
       "((4, 584), (116,), 116, 584)"
      ]
     },
     "execution_count": 26,
     "metadata": {},
     "output_type": "execute_result"
    }
   ],
   "source": [
    "test_labels = tensor_to_np_array(test_labels)\n",
    "test_label_lengths = tensor_to_np_array(test_label_lengths)\n",
    "\n",
    "test_preds = tensor_to_np_array(test_preds).transpose(1,0)\n",
    "test_preds.shape, test_labels.shape, test_label_lengths.sum(), pred_length"
   ]
  },
  {
   "cell_type": "code",
   "execution_count": 27,
   "metadata": {},
   "outputs": [
    {
     "name": "stdout",
     "output_type": "stream",
     "text": [
      "27 27 1\n",
      "31 31 2\n",
      "26 25 3\n",
      "33 33 7\n"
     ]
    },
    {
     "data": {
      "text/plain": [
       "(4, 13, 0.12001356925455597, 116)"
      ]
     },
     "execution_count": 27,
     "metadata": {},
     "output_type": "execute_result"
    }
   ],
   "source": [
    "curr_idx = 0\n",
    "seq_err = 0\n",
    "symbol_err = 0\n",
    "symbol_pct_err = 0\n",
    "\n",
    "total_length = 0\n",
    "\n",
    "for i in range(batch):\n",
    "    length = test_label_lengths[i]\n",
    "    \n",
    "    pred = test_preds[i]\n",
    "    label = test_labels[curr_idx:curr_idx+length]\n",
    "\n",
    "    pred = np_to_string(pred, int2word, vocab_size)\n",
    "    label = [int2word[x] for x in label]\n",
    "    #print(pred)\n",
    "    #print(label)\n",
    "    \n",
    "    err = levenshtein(pred, label)\n",
    "    print(len(pred), len(label), err)\n",
    "\n",
    "    if err > 0:\n",
    "        seq_err += 1\n",
    "\n",
    "    symbol_err += err\n",
    "\n",
    "    symbol_pct_err += sequence_levenshtein(pred, label)\n",
    "\n",
    "    curr_idx += length\n",
    "    total_length += length\n",
    "    \n",
    "seq_err, symbol_err, symbol_pct_err, total_length"
   ]
  },
  {
   "cell_type": "code",
   "execution_count": 28,
   "metadata": {},
   "outputs": [
    {
     "data": {
      "text/plain": [
       "<matplotlib.image.AxesImage at 0x24d0b7a83a0>"
      ]
     },
     "execution_count": 28,
     "metadata": {},
     "output_type": "execute_result"
    },
    {
     "data": {
      "image/png": "[encoded data removed]",
      "text/plain": [
       "<Figure size 432x288 with 1 Axes>"
      ]
     },
     "metadata": {
      "needs_background": "light"
     },
     "output_type": "display_data"
    }
   ],
   "source": [
    "test_img = cv2.imread(\"Data/Example/000051652-1_2_1.png\",False)\n",
    "plt.imshow(test_img)"
   ]
  },
  {
   "cell_type": "code",
   "execution_count": 29,
   "metadata": {},
   "outputs": [
    {
     "data": {
      "text/plain": [
       "<matplotlib.image.AxesImage at 0x24d0b810af0>"
      ]
     },
     "execution_count": 29,
     "metadata": {},
     "output_type": "execute_result"
    },
    {
     "data": {
      "image/png": "[encoded data removed]",
      "text/plain": [
       "<Figure size 432x288 with 1 Axes>"
      ]
     },
     "metadata": {
      "needs_background": "light"
     },
     "output_type": "display_data"
    }
   ],
   "source": [
    "test_img = resize(test_img, 128)\n",
    "test_img = normalize(test_img)\n",
    "plt.imshow(test_img)"
   ]
  },
  {
   "cell_type": "code",
   "execution_count": 30,
   "metadata": {},
   "outputs": [
    {
     "data": {
      "text/plain": [
       "(1, 1, 128, 859)"
      ]
     },
     "execution_count": 30,
     "metadata": {},
     "output_type": "execute_result"
    }
   ],
   "source": [
    "test_img = test_img.reshape((1,1,128,-1))\n",
    "test_img.shape"
   ]
  },
  {
   "cell_type": "code",
   "execution_count": 31,
   "metadata": {},
   "outputs": [
    {
     "data": {
      "text/plain": [
       "torch.Size([424, 1])"
      ]
     },
     "execution_count": 31,
     "metadata": {},
     "output_type": "execute_result"
    }
   ],
   "source": [
    "test_torch = torch.tensor(test_img, dtype=torch.float32).to(device)\n",
    "\n",
    "pred = model(test_torch).log_softmax(2).argmax(2)\n",
    "\n",
    "pred.size()"
   ]
  },
  {
   "cell_type": "code",
   "execution_count": 32,
   "metadata": {},
   "outputs": [
    {
     "data": {
      "text/plain": [
       "array([   1,  229, 1751, 1781, 1781, 1781, 1781, 1781, 1781, 1781, 1781,\n",
       "       1781, 1781, 1781, 1781, 1781, 1781, 1781, 1781, 1781, 1781, 1781,\n",
       "       1781, 1781, 1781, 1781, 1781, 1781, 1781, 1781, 1781, 1781, 1781,\n",
       "       1781, 1781, 1781, 1781, 1781, 1781, 1781, 1781, 1781, 1781, 1781,\n",
       "       1781, 1781, 1781, 1781, 1781, 1781, 1781, 1781, 1781, 1781, 1781,\n",
       "       1781, 1781, 1781, 1781, 1781, 1781, 1781, 1781, 1781, 1781, 1781,\n",
       "       1781, 1781, 1781, 1781, 1781, 1781, 1781, 1781, 1781, 1781, 1781,\n",
       "       1781, 1781, 1781, 1781, 1781, 1781, 1781, 1781, 1781, 1781, 1781,\n",
       "       1781, 1781, 1781, 1781, 1781, 1781, 1781, 1781, 1781, 1781, 1781,\n",
       "       1781, 1781, 1781, 1781, 1781, 1781, 1781, 1781, 1781, 1781, 1781,\n",
       "       1781, 1781, 1781, 1781, 1781, 1781, 1781, 1781, 1781, 1781, 1781,\n",
       "       1781, 1781, 1781, 1781, 1781, 1781, 1781, 1781, 1781, 1781, 1781,\n",
       "       1781, 1781, 1781, 1781, 1781, 1781, 1781, 1781, 1781, 1781, 1781,\n",
       "       1781, 1781, 1781, 1781, 1781, 1781, 1781, 1781, 1781, 1781, 1781,\n",
       "       1781, 1781, 1781, 1781, 1781, 1781, 1781, 1781, 1781, 1781, 1781,\n",
       "       1781, 1781, 1781, 1781, 1781,  283, 1781, 1781, 1781, 1781, 1781,\n",
       "          0, 1727, 1781, 1781, 1781, 1717, 1781,  678, 1781,    0,    0,\n",
       "        688, 1781, 1781, 1781, 1599, 1781, 1781,    0, 1314, 1781, 1781,\n",
       "       1781, 1781, 1018, 1781,    0, 1781,  823, 1781,  823, 1781, 1727,\n",
       "       1781, 1781,    0, 1781, 1781, 1781, 1781, 1781, 1781, 1781, 1781,\n",
       "       1781, 1781, 1781, 1781, 1781, 1781, 1781, 1781, 1781, 1781, 1781,\n",
       "       1781, 1781, 1781, 1781, 1781, 1781, 1781, 1781, 1781, 1781, 1781,\n",
       "       1781, 1781, 1781, 1781, 1781, 1781, 1781, 1781, 1781, 1781, 1781,\n",
       "       1781, 1781, 1781, 1781, 1781, 1781, 1781, 1781, 1781, 1781, 1781,\n",
       "       1781, 1781, 1781, 1781, 1781, 1781, 1781, 1781, 1781, 1781, 1781,\n",
       "       1781, 1781, 1781, 1781, 1781, 1781, 1781, 1781, 1781, 1781, 1781,\n",
       "       1781, 1781, 1781, 1781, 1781, 1781, 1781, 1781, 1781, 1781, 1781,\n",
       "       1781, 1781, 1781, 1781, 1781, 1781, 1781, 1781, 1781, 1781, 1781,\n",
       "       1781, 1781, 1781, 1781, 1781, 1781, 1781, 1781, 1781, 1781, 1781,\n",
       "       1781, 1781, 1781, 1781, 1781, 1781, 1781, 1781, 1781, 1781, 1781,\n",
       "       1781, 1781, 1781, 1781, 1781, 1781, 1781, 1781, 1781, 1781, 1781,\n",
       "       1781, 1781, 1781, 1781, 1781, 1781, 1781, 1781, 1781, 1781, 1781,\n",
       "       1781, 1781, 1781, 1781, 1781, 1781, 1781, 1781, 1781, 1781, 1781,\n",
       "       1781, 1781, 1781, 1781, 1781, 1781, 1781, 1781, 1781, 1781, 1781,\n",
       "       1781, 1781, 1781, 1781, 1781, 1781, 1781, 1781, 1781, 1781, 1781,\n",
       "       1781, 1781, 1781, 1781, 1781, 1781, 1781, 1781, 1781, 1781, 1781,\n",
       "       1781, 1781, 1781, 1781, 1781, 1781, 1781, 1781, 1781, 1781, 1781,\n",
       "       1781, 1781, 1781, 1781, 1781, 1781, 1781, 1781, 1781, 1781, 1781,\n",
       "       1781, 1781, 1781, 1781, 1781, 1781], dtype=int64)"
      ]
     },
     "execution_count": 32,
     "metadata": {},
     "output_type": "execute_result"
    }
   ],
   "source": [
    "pred_np = tensor_to_np_array(pred).flatten()\n",
    "pred_np"
   ]
  },
  {
   "cell_type": "code",
   "execution_count": 33,
   "metadata": {},
   "outputs": [
    {
     "data": {
      "text/plain": [
       "['clef-C1',\n",
       " 'keySignature-EbM',\n",
       " 'timeSignature-2/4',\n",
       " 'multirest-23',\n",
       " 'barline',\n",
       " 'rest-quarter',\n",
       " 'rest-eighth',\n",
       " 'note-Bb4_eighth',\n",
       " 'barline',\n",
       " 'note-Bb4_quarter.',\n",
       " 'note-G4_eighth',\n",
       " 'barline',\n",
       " 'note-Eb5_quarter.',\n",
       " 'note-D5_eighth',\n",
       " 'barline',\n",
       " 'note-C5_eighth',\n",
       " 'note-C5_eighth',\n",
       " 'rest-quarter',\n",
       " 'barline']"
      ]
     },
     "execution_count": 33,
     "metadata": {},
     "output_type": "execute_result"
    }
   ],
   "source": [
    "sample_gt_file = open('Data/Example/000051652-1_2_1.semantic', 'r')\n",
    "test_label = sample_gt_file.readline().rstrip().split('\\t')\n",
    "sample_gt_file.close()\n",
    "\n",
    "test_label"
   ]
  },
  {
   "cell_type": "code",
   "execution_count": 34,
   "metadata": {},
   "outputs": [
    {
     "data": {
      "text/plain": [
       "['clef-C1',\n",
       " 'keySignature-EbM',\n",
       " 'timeSignature-2/4',\n",
       " 'multirest-4',\n",
       " 'barline',\n",
       " 'rest-quarter',\n",
       " 'rest-eighth',\n",
       " 'note-Bb4_eighth',\n",
       " 'barline',\n",
       " 'note-Bb4_quarter.',\n",
       " 'note-G4_eighth',\n",
       " 'barline',\n",
       " 'note-Eb5_quarter.',\n",
       " 'note-D5_eighth',\n",
       " 'barline',\n",
       " 'note-C5_eighth',\n",
       " 'note-C5_eighth',\n",
       " 'rest-quarter',\n",
       " 'barline']"
      ]
     },
     "execution_count": 34,
     "metadata": {},
     "output_type": "execute_result"
    }
   ],
   "source": [
    "pred_str = np_to_string(pred_np, int2word, vocab_size)\n",
    "pred_str"
   ]
  },
  {
   "cell_type": "code",
   "execution_count": 41,
   "metadata": {},
   "outputs": [
    {
     "data": {
      "text/plain": [
       "0.0043859649122807015"
      ]
     },
     "execution_count": 41,
     "metadata": {},
     "output_type": "execute_result"
    }
   ],
   "source": [
    "sequence_levenshtein(pred_str, test_label)"
   ]
  },
  {
   "cell_type": "code",
   "execution_count": 42,
   "metadata": {},
   "outputs": [
    {
     "data": {
      "text/plain": [
       "1"
      ]
     },
     "execution_count": 42,
     "metadata": {},
     "output_type": "execute_result"
    }
   ],
   "source": [
    "levenshtein(pred_str, test_label)"
   ]
  },
  {
   "cell_type": "code",
   "execution_count": null,
   "metadata": {},
   "outputs": [],
   "source": []
  }
 ],
 "metadata": {
  "kernelspec": {
   "display_name": "bkai",
   "language": "python",
   "name": "bkai"
  },
  "language_info": {
   "codemirror_mode": {
    "name": "ipython",
    "version": 3
   },
   "file_extension": ".py",
   "mimetype": "text/x-python",
   "name": "python",
   "nbconvert_exporter": "python",
   "pygments_lexer": "ipython3",
   "version": "3.8.11"
  }
 },
 "nbformat": 4,
 "nbformat_minor": 4
}

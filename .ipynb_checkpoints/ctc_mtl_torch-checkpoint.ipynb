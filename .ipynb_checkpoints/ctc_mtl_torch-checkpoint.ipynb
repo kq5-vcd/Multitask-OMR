{
 "cells": [
  {
   "cell_type": "code",
   "execution_count": 1,
   "metadata": {},
   "outputs": [],
   "source": [
    "import cv2\n",
    "import matplotlib.pyplot as plt\n",
    "import numpy as np\n",
    "import random\n",
    "\n",
    "import torch\n",
    "import torch.nn as nn\n",
    "import torch.nn.functional as F\n",
    "import torch.optim as optim\n",
    "from torch.autograd import Variable\n",
    "\n",
    "import os\n",
    "import gc\n",
    "gc.enable()"
   ]
  },
  {
   "cell_type": "code",
   "execution_count": 2,
   "metadata": {},
   "outputs": [],
   "source": [
    "torch.backends.cudnn.benchmark = True\n",
    "torch.backends.cudnn.enabled = True"
   ]
  },
  {
   "cell_type": "code",
   "execution_count": 3,
   "metadata": {},
   "outputs": [],
   "source": [
    "device = 'cuda' if torch.cuda.is_available() else 'cpu'\n",
    "#assert device == 'cuda:0' "
   ]
  },
  {
   "cell_type": "code",
   "execution_count": 4,
   "metadata": {},
   "outputs": [],
   "source": [
    "def normalize(image):\n",
    "    return (255. - image)/255.\n",
    "\n",
    "\n",
    "def resize(image, height):\n",
    "    #new_width = old_width * (new_height/old_height)\n",
    "    width = int(float(height * image.shape[1]) / image.shape[0]) \n",
    "    sample_img = cv2.resize(image, (width, height))\n",
    "    \n",
    "    del width\n",
    "    \n",
    "    return sample_img"
   ]
  },
  {
   "cell_type": "code",
   "execution_count": 5,
   "metadata": {},
   "outputs": [],
   "source": [
    "def levenshtein(a,b):\n",
    "    \"Computes the Levenshtein distance between a and b.\"\n",
    "    n, m = len(a), len(b)\n",
    "\n",
    "    if n > m:\n",
    "        a,b = b,a\n",
    "        n,m = m,n\n",
    "\n",
    "    current = range(n+1)\n",
    "    for i in range(1,m+1):\n",
    "        previous, current = current, [i]+[0]*n\n",
    "        for j in range(1,n+1):\n",
    "            add, delete = previous[j]+1, current[j-1]+1\n",
    "            change = previous[j-1]\n",
    "            if a[j-1] != b[i-1]:\n",
    "                change = change + 1\n",
    "            current[j] = min(add, delete, change)\n",
    "\n",
    "    return current[n]"
   ]
  },
  {
   "cell_type": "code",
   "execution_count": 6,
   "metadata": {},
   "outputs": [],
   "source": [
    "def levenshtein_pct(a,b):\n",
    "    max_len = max(len(a), len(b))\n",
    "    \n",
    "    return levenshtein(a,b)/max_len"
   ]
  },
  {
   "cell_type": "code",
   "execution_count": 7,
   "metadata": {},
   "outputs": [],
   "source": [
    "def sequence_levenshtein(a,b):\n",
    "    n, m = len(a), len(b)\n",
    "    dist = 0\n",
    "\n",
    "    if n > m:\n",
    "        a,b = b,a\n",
    "        n,m = m,n\n",
    "        \n",
    "    for i in range(n):\n",
    "        word = a[i]\n",
    "        \n",
    "        b_seq = b[:len(b)-n+i+1]\n",
    "        \n",
    "        seq_dist = [levenshtein_pct(word, x) for x in b_seq]\n",
    "        best_val = min(seq_dist)\n",
    "        dest_idx = seq_dist.index(best_val)\n",
    "        \n",
    "        dist += dest_idx + best_val\n",
    "        \n",
    "        if i == n - 1:\n",
    "            dist += len(b) - dest_idx - 1\n",
    "            break\n",
    "            \n",
    "        b = b[dest_idx+1:]\n",
    "            \n",
    "\n",
    "    return dist/m"
   ]
  },
  {
   "cell_type": "code",
   "execution_count": 8,
   "metadata": {},
   "outputs": [],
   "source": [
    "def tensor_to_np_array(t):\n",
    "    t = t.cpu().detach().numpy()\n",
    "    \n",
    "    return t"
   ]
  },
  {
   "cell_type": "code",
   "execution_count": 9,
   "metadata": {},
   "outputs": [],
   "source": [
    "def np_to_string(arr, int2word, blank):\n",
    "    result = []\n",
    "    for i in range(len(arr)):\n",
    "        if arr[i] != blank:\n",
    "            if i == 0 or arr[i] != arr[i-1]:\n",
    "                result.append(int2word[arr[i]])\n",
    "            \n",
    "    return result"
   ]
  },
  {
   "cell_type": "code",
   "execution_count": 10,
   "metadata": {},
   "outputs": [],
   "source": [
    "def load_symbols(dict_path):\n",
    "    word2int = {} #map symbols to numeric values\n",
    "    int2word = {} #map numeric values to symbols\n",
    "\n",
    "    dict_file = open(dict_path,'r')\n",
    "    dict_list = dict_file.read().splitlines()\n",
    "    \n",
    "    for word in dict_list:\n",
    "        if not word in word2int:\n",
    "            word_idx = len(word2int)\n",
    "            word2int[word] = word_idx\n",
    "            int2word[word_idx] = word\n",
    "\n",
    "    dict_file.close()\n",
    "    \n",
    "    del dict_file\n",
    "    \n",
    "    return (word2int, int2word, len(int2word))"
   ]
  },
  {
   "cell_type": "code",
   "execution_count": 11,
   "metadata": {},
   "outputs": [],
   "source": [
    "class PriMuS:\n",
    "    # Data preprocessor/loader for the model\n",
    "    gt_element_separator = '-'\n",
    "    PAD_COLUMN = 0\n",
    "\n",
    "\n",
    "    def __init__(self, corpus_dirpath, corpus_path, word2int_sem, word2int_agn, \n",
    "                 img_height, batch_size, img_channels, \n",
    "                 train_split=0.5, test_split=0.5, shuffle=True, \n",
    "                 distorted=False, device='cpu'):\n",
    "        corpus_file = open(corpus_path,'r')\n",
    "        corpus_list = corpus_file.read().splitlines()\n",
    "        corpus_file.close()\n",
    "        \n",
    "        del corpus_file\n",
    "\n",
    "        # Train and validation split\n",
    "        if shuffle:\n",
    "            random.shuffle(corpus_list) \n",
    "            \n",
    "        train_idx = int(len(corpus_list) * train_split) \n",
    "        test_idx = int(len(corpus_list) * test_split) \n",
    "\n",
    "        self.training_list = corpus_list[:train_idx]\n",
    "        self.validation_list = corpus_list[train_idx:-test_idx]\n",
    "        self.test_list = corpus_list[-test_idx:]\n",
    "        \n",
    "        del train_idx\n",
    "        del test_idx\n",
    "\n",
    "        print ('Training with ' + str(len(self.training_list)) + ', validating with ' \n",
    "               + str(len(self.validation_list)) + ', and testing with ' + str(len(self.test_list)))\n",
    "        \n",
    "        self.corpus_dirpath = corpus_dirpath\n",
    "        self.distorted = distorted\n",
    "        self.device = device\n",
    "        \n",
    "        self.current_idx = 0 #identify current index in list of samples\n",
    "        self.current_eval_idx = 0\n",
    "        self.current_test_idx = 0\n",
    "\n",
    "        # Dictionary\n",
    "        self.word2int_sem = word2int_sem #map symbols to numeric values\n",
    "        self.word2int_agn = word2int_agn\n",
    "        \n",
    "        self.img_height = img_height\n",
    "        self.batch_size = batch_size\n",
    "        self.img_channels = img_channels\n",
    "        \n",
    "        self.training_iterations = int(len(self.training_list)/self.batch_size) + 1\n",
    "        self.eval_iterations = int(len(self.validation_list)/self.batch_size) + 1\n",
    "        self.test_iterations = int(len(self.test_list)/self.batch_size) + 1\n",
    "        \n",
    "    \n",
    "    def load_data(self, filepath):\n",
    "        sample_fullpath = self.corpus_dirpath + '/' + filepath + '/' + filepath\n",
    "        #print(sample_filepath)\n",
    "\n",
    "        # IMAGE\n",
    "        img_src = sample_fullpath + '_distorted.jpg' if self.distorted else sample_fullpath + '.png'\n",
    "        image = cv2.imread(img_src, False)  # Grayscale is assumed!\n",
    "        \n",
    "        del img_src\n",
    "        \n",
    "        image = resize(image, self.img_height)\n",
    "        image = normalize(image)\n",
    "        \n",
    "\n",
    "        # GROUND TRUTH\n",
    "        sample_gt_file_sem = open(sample_fullpath + '.semantic', 'r')\n",
    "        sample_gt_plain_sem = sample_gt_file_sem.readline().rstrip().split('\\t')\n",
    "        sample_gt_file_sem.close()\n",
    "        \n",
    "        del sample_gt_file_sem\n",
    "        \n",
    "        sample_gt_file_agn = open(sample_fullpath + '.agnostic', 'r')\n",
    "        sample_gt_plain_agn = sample_gt_file_agn.readline().rstrip().split('\\t')\n",
    "        sample_gt_file_agn.close()\n",
    "        \n",
    "        del sample_fullpath\n",
    "        del sample_gt_file_agn\n",
    "\n",
    "        label_sem = [self.word2int_sem[lab] for lab in sample_gt_plain_sem] #label: list of numeric values\n",
    "        del sample_gt_plain_sem\n",
    "        \n",
    "        label_agn = [self.word2int_agn[lab] for lab in sample_gt_plain_agn] \n",
    "        del sample_gt_plain_agn\n",
    "        \n",
    "        return (image, label_sem, label_agn)\n",
    "    \n",
    "    \n",
    "    def transform_to_batch(self, images):\n",
    "        # Extend all images to match the longest in the batch\n",
    "        image_widths = [img.shape[1] for img in images]\n",
    "        max_image_width = max(image_widths)\n",
    "        \n",
    "        del image_widths\n",
    "\n",
    "        batch_images = np.ones(shape=[len(images),\n",
    "                                      self.img_channels,\n",
    "                                      self.img_height,\n",
    "                                      max_image_width], dtype=np.float32)*self.PAD_COLUMN\n",
    "        # batch shape: (b, c, h, w)\n",
    "        \n",
    "        del max_image_width\n",
    "\n",
    "        for i, img in enumerate(images):\n",
    "            batch_images[i, 0, 0:img.shape[0], 0:img.shape[1]] = img\n",
    "        # shorter images will be padded\n",
    "\n",
    "        return batch_images\n",
    "\n",
    "        \n",
    "    def next_batch(self, phase=\"train\"):\n",
    "        # Create a batch\n",
    "        images = [] \n",
    "        labels_sem = []\n",
    "        labels_agn = []\n",
    "\n",
    "        if phase == \"train\":\n",
    "            for _ in range(self.batch_size):\n",
    "                image, label_sem, label_agn = self.load_data(self.training_list[self.current_idx])\n",
    "                images.append(image)\n",
    "                labels_sem.append(label_sem)\n",
    "                labels_agn.append(label_agn)\n",
    "\n",
    "                self.current_idx = (self.current_idx + 1) % len(self.training_list) #increment index, turn back to beginning if overflow\n",
    "        elif phase == \"eval\":\n",
    "            for _ in range(self.batch_size):\n",
    "                image, label_sem, label_agn = self.load_data(self.validation_list[self.current_eval_idx])\n",
    "                images.append(image)\n",
    "                labels_sem.append(label_sem)\n",
    "                labels_agn.append(label_agn)\n",
    "                \n",
    "                self.current_eval_idx = (self.current_eval_idx + 1) % len(self.validation_list)\n",
    "        elif phase == \"test\":\n",
    "            for _ in range(self.batch_size):\n",
    "                image, label_sem, label_agn = self.load_data(self.test_list[self.current_test_idx])\n",
    "                images.append(image)\n",
    "                labels_sem.append(label_sem)\n",
    "                labels_agn.append(label_agn)\n",
    "            \n",
    "                self.current_test_idx = (self.current_test_idx + 1) % len(self.test_list)\n",
    "\n",
    "        # Transform to batch\n",
    "        batch_images = self.transform_to_batch(images)\n",
    "        target_lengths_sem = [len(x) for x in labels_sem]\n",
    "        target_lengths_agn = [len(x) for x in labels_agn]\n",
    "        \n",
    "        flattened_labels_sem = []\n",
    "        for label in labels_sem:\n",
    "            flattened_labels_sem += label\n",
    "        del labels_sem\n",
    "        \n",
    "        flattened_labels_agn = []\n",
    "        for label in labels_agn:\n",
    "            flattened_labels_agn += label\n",
    "        del labels_agn\n",
    "        \n",
    "        batch_images = torch.from_numpy(batch_images).to(self.device)\n",
    "        labels_sem = torch.tensor(flattened_labels_sem).to(self.device)\n",
    "        target_lengths_sem = torch.tensor(target_lengths_sem, dtype=torch.int32).to(self.device)\n",
    "        labels_agn = torch.tensor(flattened_labels_agn).to(self.device)\n",
    "        target_lengths_agn = torch.tensor(target_lengths_agn, dtype=torch.int32).to(self.device)\n",
    "\n",
    "        return (batch_images, labels_sem, target_lengths_sem, labels_agn, target_lengths_agn)"
   ]
  },
  {
   "cell_type": "code",
   "execution_count": 12,
   "metadata": {},
   "outputs": [],
   "source": [
    "class BidirectionalLSTM(nn.Module):\n",
    "\n",
    "    def __init__(self, nIn, nHidden, nOut, dropout=0):\n",
    "        super(BidirectionalLSTM, self).__init__()\n",
    "\n",
    "        self.rnn = nn.LSTM(nIn, nHidden, bidirectional=True, dropout=dropout)\n",
    "        self.embedding = nn.Linear(nHidden * 2, nOut)\n",
    "        \n",
    "\n",
    "    def forward(self, input):\n",
    "        recurrent, _ = self.rnn(input)\n",
    "        T, b, h = recurrent.size()\n",
    "        t_rec = recurrent.view(T * b, h)\n",
    "        \n",
    "        del h\n",
    "        del recurrent\n",
    "\n",
    "        output = self.embedding(t_rec)  # [T * b, nOut]\n",
    "        output = output.view(T, b, -1)\n",
    "        \n",
    "        del T\n",
    "        del b\n",
    "\n",
    "        return output\n",
    "\n",
    "\n",
    "class CRNN(nn.Module):\n",
    "\n",
    "    def __init__(self, input_size, img_height, nclass_sem, nclass_agn, conv_layers, rnn_hidden_states, dropout=0.5, kernel_size=3, pooling_size=2):\n",
    "        super(CRNN, self).__init__()\n",
    "        assert img_height % 16 == 0, 'img_height has to be a multiple of 16'\n",
    "\n",
    "        self.cnn = nn.Sequential()\n",
    "        for i in range(len(conv_layers)):\n",
    "            input_channels = input_size if i == 0 else conv_layers[i-1]\n",
    "            output_channels = conv_layers[i]\n",
    "\n",
    "            self.cnn.add_module('conv{0}'.format(i),\n",
    "                                nn.Conv2d(input_channels, output_channels, kernel_size=kernel_size, padding = 1))\n",
    "            self.cnn.add_module('batchnorm{0}'.format(i), nn.BatchNorm2d(output_channels))\n",
    "            self.cnn.add_module('relu{0}'.format(i), nn.LeakyReLU(0.2, inplace=True))\n",
    "            self.cnn.add_module('pooling{0}'.format(i), nn.MaxPool2d(pooling_size, 2))\n",
    "            \n",
    "            del input_channels\n",
    "            del output_channels\n",
    "            \n",
    "        self.rnn_sem = nn.Sequential()\n",
    "        for i in range(len(rnn_hidden_states)):\n",
    "            inC = conv_layers[-1] if i == 0 else rnn_hidden_states[i-1]\n",
    "\n",
    "            if i < len(rnn_hidden_states) - 1:\n",
    "                self.rnn_sem.add_module('BiLSTM{0}'.format(i), \n",
    "                                    BidirectionalLSTM(inC, rnn_hidden_states[i], \n",
    "                                                      rnn_hidden_states[i], dropout=dropout))\n",
    "            else:\n",
    "                self.rnn_sem.add_module('BiLSTM{0}'.format(i), \n",
    "                                    BidirectionalLSTM(inC, rnn_hidden_states[i], nclass_sem))\n",
    "\n",
    "            del inC\n",
    "\n",
    "        self.rnn_agn = nn.Sequential()\n",
    "        for i in range(len(rnn_hidden_states)):\n",
    "            inC = conv_layers[-1] if i == 0 else rnn_hidden_states[i-1]\n",
    "\n",
    "            if i < len(rnn_hidden_states) - 1:\n",
    "                self.rnn_agn.add_module('BiLSTM{0}'.format(i), \n",
    "                                    BidirectionalLSTM(inC, rnn_hidden_states[i], \n",
    "                                                      rnn_hidden_states[i], dropout=dropout))\n",
    "            else:\n",
    "                self.rnn_agn.add_module('BiLSTM{0}'.format(i), \n",
    "                                    BidirectionalLSTM(inC, rnn_hidden_states[i], nclass_agn))\n",
    "\n",
    "            del inC\n",
    "        \n",
    "        self.activation = nn.LogSoftmax(2)\n",
    "        \n",
    "\n",
    "    def forward(self, input):\n",
    "        # conv features\n",
    "        conv = self.cnn(input)\n",
    "        b, c, h, w = conv.size()\n",
    "        conv = conv.view(b, c, -1)\n",
    "        conv = conv.permute(2, 0, 1)  # [w, b, c]\n",
    "        #print(conv.size())\n",
    "        \n",
    "        del b\n",
    "        del c\n",
    "        del h\n",
    "        del w\n",
    "\n",
    "        # rnn features\n",
    "        output1 = self.rnn_sem(conv)\n",
    "        output2 = self.rnn_agn(conv)\n",
    "        \n",
    "        output1 = self.activation(output1)\n",
    "        output2 = self.activation(output2)\n",
    "\n",
    "        return output1, output2"
   ]
  },
  {
   "cell_type": "code",
   "execution_count": 13,
   "metadata": {},
   "outputs": [],
   "source": [
    "def multitask_loss(loss_func1, loss_func2,\n",
    "                   batch_sem, batch_agn, \n",
    "                   labels_sem, labels_agn, \n",
    "                   batch_lengths, label_lengths_sem, label_lengths_agn):\n",
    "    l1 = loss_func1(batch_sem, labels_sem, batch_lengths, label_lengths_sem)\n",
    "    l2 = loss_func2(batch_agn, labels_agn, batch_lengths, label_lengths_agn)\n",
    "    return   l1, l2, l1+l2"
   ]
  },
  {
   "cell_type": "code",
   "execution_count": 14,
   "metadata": {},
   "outputs": [],
   "source": [
    "#Train model\n",
    "corpus = 'Data/Corpus' #Path to the corpus\n",
    "set_path = 'Data/Corpus_list.txt' #Path to the set file\n",
    "save_model = 'Models/trained_multitask_distorted_model.pth' #Path to save the model\n",
    "vocabulary_sem = 'Data/vocabulary_semantic.txt' #Path to the vocabulary file\n",
    "vocabulary_agn = 'Data/vocabulary_agnostic.txt'\n",
    "\n",
    "train_split = 0.7\n",
    "test_split = 0.1"
   ]
  },
  {
   "cell_type": "code",
   "execution_count": 15,
   "metadata": {},
   "outputs": [],
   "source": [
    "word2int_sem, int2word_sem, vocab_size_sem = load_symbols(vocabulary_sem)\n",
    "word2int_agn, int2word_agn, vocab_size_agn = load_symbols(vocabulary_agn)"
   ]
  },
  {
   "cell_type": "code",
   "execution_count": 16,
   "metadata": {},
   "outputs": [],
   "source": [
    "img_height = 128\n",
    "img_width = None\n",
    "batch_size = 4\n",
    "img_channels = 1\n",
    "conv_channels = [32, 64, 128, 256]\n",
    "conv_filter_size = 3\n",
    "conv_pooling_size = 2\n",
    "rnn_hidden_states = [256,256]"
   ]
  },
  {
   "cell_type": "code",
   "execution_count": 17,
   "metadata": {},
   "outputs": [],
   "source": [
    "# Parameterization\n",
    "epochs = 5\n",
    "dropout = 0.5\n",
    "nclass_sem = vocab_size_sem + 1\n",
    "nclass_agn = vocab_size_agn + 1\n",
    "input_size = 1\n",
    "\n",
    "prepared = True #To ignore training\n",
    "distorted = True #To change dataset"
   ]
  },
  {
   "cell_type": "code",
   "execution_count": 18,
   "metadata": {},
   "outputs": [
    {
     "name": "stderr",
     "output_type": "stream",
     "text": [
      "C:\\Users\\ADMIN\\anaconda3\\envs\\bkai\\lib\\site-packages\\torch\\nn\\modules\\rnn.py:58: UserWarning: dropout option adds dropout after all but last recurrent layer, so non-zero dropout expects num_layers greater than 1, but got dropout=0.5 and num_layers=1\n",
      "  warnings.warn(\"dropout option adds dropout after all but last \"\n"
     ]
    },
    {
     "name": "stdout",
     "output_type": "stream",
     "text": [
      "CRNN(\n",
      "  (cnn): Sequential(\n",
      "    (conv0): Conv2d(1, 32, kernel_size=(3, 3), stride=(1, 1), padding=(1, 1))\n",
      "    (batchnorm0): BatchNorm2d(32, eps=1e-05, momentum=0.1, affine=True, track_running_stats=True)\n",
      "    (relu0): LeakyReLU(negative_slope=0.2, inplace=True)\n",
      "    (pooling0): MaxPool2d(kernel_size=2, stride=2, padding=0, dilation=1, ceil_mode=False)\n",
      "    (conv1): Conv2d(32, 64, kernel_size=(3, 3), stride=(1, 1), padding=(1, 1))\n",
      "    (batchnorm1): BatchNorm2d(64, eps=1e-05, momentum=0.1, affine=True, track_running_stats=True)\n",
      "    (relu1): LeakyReLU(negative_slope=0.2, inplace=True)\n",
      "    (pooling1): MaxPool2d(kernel_size=2, stride=2, padding=0, dilation=1, ceil_mode=False)\n",
      "    (conv2): Conv2d(64, 128, kernel_size=(3, 3), stride=(1, 1), padding=(1, 1))\n",
      "    (batchnorm2): BatchNorm2d(128, eps=1e-05, momentum=0.1, affine=True, track_running_stats=True)\n",
      "    (relu2): LeakyReLU(negative_slope=0.2, inplace=True)\n",
      "    (pooling2): MaxPool2d(kernel_size=2, stride=2, padding=0, dilation=1, ceil_mode=False)\n",
      "    (conv3): Conv2d(128, 256, kernel_size=(3, 3), stride=(1, 1), padding=(1, 1))\n",
      "    (batchnorm3): BatchNorm2d(256, eps=1e-05, momentum=0.1, affine=True, track_running_stats=True)\n",
      "    (relu3): LeakyReLU(negative_slope=0.2, inplace=True)\n",
      "    (pooling3): MaxPool2d(kernel_size=2, stride=2, padding=0, dilation=1, ceil_mode=False)\n",
      "  )\n",
      "  (rnn_sem): Sequential(\n",
      "    (BiLSTM0): BidirectionalLSTM(\n",
      "      (rnn): LSTM(256, 256, dropout=0.5, bidirectional=True)\n",
      "      (embedding): Linear(in_features=512, out_features=256, bias=True)\n",
      "    )\n",
      "    (BiLSTM1): BidirectionalLSTM(\n",
      "      (rnn): LSTM(256, 256, bidirectional=True)\n",
      "      (embedding): Linear(in_features=512, out_features=1782, bias=True)\n",
      "    )\n",
      "  )\n",
      "  (rnn_agn): Sequential(\n",
      "    (BiLSTM0): BidirectionalLSTM(\n",
      "      (rnn): LSTM(256, 256, dropout=0.5, bidirectional=True)\n",
      "      (embedding): Linear(in_features=512, out_features=256, bias=True)\n",
      "    )\n",
      "    (BiLSTM1): BidirectionalLSTM(\n",
      "      (rnn): LSTM(256, 256, bidirectional=True)\n",
      "      (embedding): Linear(in_features=512, out_features=759, bias=True)\n",
      "    )\n",
      "  )\n",
      "  (activation): LogSoftmax(dim=2)\n",
      ")\n"
     ]
    }
   ],
   "source": [
    "model = CRNN(input_size, img_height, \n",
    "             nclass_sem, nclass_agn, \n",
    "             conv_channels, \n",
    "             rnn_hidden_states, \n",
    "             dropout=dropout)\n",
    "\n",
    "if torch.cuda.is_available():\n",
    "    model.to(device)\n",
    "    \n",
    "if prepared:\n",
    "    model.load_state_dict(torch.load(save_model))\n",
    "    \n",
    "loss_function_sem = nn.CTCLoss(blank=vocab_size_sem)\n",
    "loss_function_agn = nn.CTCLoss(blank=vocab_size_agn)\n",
    "optimizer = optim.Adam(model.parameters(), lr=0.001)\n",
    "scheduler = optim.lr_scheduler.StepLR(optimizer, step_size=1000, gamma=0.99)\n",
    "\n",
    "print(model)"
   ]
  },
  {
   "cell_type": "code",
   "execution_count": 19,
   "metadata": {},
   "outputs": [
    {
     "name": "stdout",
     "output_type": "stream",
     "text": [
      "Training with 61374, validating with 17537, and testing with 8767\n"
     ]
    }
   ],
   "source": [
    "# Load primus\n",
    "primus = PriMuS(corpus, set_path, word2int_sem, word2int_agn, img_height, \n",
    "                batch_size, img_channels, train_split=train_split, test_split=test_split, \n",
    "                shuffle=False, distorted=distorted, device=device)"
   ]
  },
  {
   "cell_type": "code",
   "execution_count": 20,
   "metadata": {},
   "outputs": [],
   "source": [
    "def train(model, optimizer, scheduler, dataloader, epochs, checkpoint):\n",
    "    ctc_train = []\n",
    "    ctc_train_sem = []\n",
    "    ctc_train_agn = []\n",
    "    \n",
    "    ctc_eval = []\n",
    "    ctc_eval_sem = []\n",
    "    ctc_eval_agn = []\n",
    "    \n",
    "    best_val = 10000\n",
    "\n",
    "    for epoch in range(epochs):  \n",
    "        print(\"Epoch:\", epoch+1)\n",
    "        \n",
    "        for i in range(dataloader.training_iterations):\n",
    "            batch, labels_sem, label_lengths_sem, labels_agn, label_lengths_agn = dataloader.next_batch()\n",
    "\n",
    "            model.train()\n",
    "            optimizer.zero_grad()\n",
    "\n",
    "            preds_sem, preds_agn = model(batch)\n",
    "            del batch\n",
    "            \n",
    "            batch_lengths = Variable(torch.IntTensor([preds_sem.size(0)] * preds_sem.size(1))).to(device)\n",
    "            \n",
    "            loss_sem, loss_agn, loss = multitask_loss(loss_function_sem, loss_function_agn,\n",
    "                                                      preds_sem, preds_agn,\n",
    "                                                      labels_sem.detach(), labels_agn.detach(), \n",
    "                                                      batch_lengths.detach(), \n",
    "                                                      label_lengths_sem.detach(), label_lengths_agn.detach())\n",
    "\n",
    "            del labels_sem\n",
    "            del labels_agn\n",
    "            del batch_lengths\n",
    "            del label_lengths_sem\n",
    "            del label_lengths_agn\n",
    "            \n",
    "            del preds_sem\n",
    "            del preds_agn\n",
    "\n",
    "            loss.backward()\n",
    "            optimizer.step()\n",
    "            scheduler.step()\n",
    "            \n",
    "            \n",
    "            if i % 100 == 99 or i == dataloader.training_iterations - 1:\n",
    "                ctc_train.append(loss.item()) \n",
    "                ctc_train_sem.append(loss_sem.item()) \n",
    "                ctc_train_agn.append(loss_agn.item()) \n",
    "                print(f'Iteration: {i+1:4}')\n",
    "                print(f'Semantic loss: {loss_sem.item():10.8f}')\n",
    "                print(f'Agnostic loss: {loss_agn.item():10.8f}')\n",
    "                print(f'Total loss: {loss.item():10.8f}')\n",
    "            del loss\n",
    "            del loss_sem\n",
    "            del loss_agn\n",
    "\n",
    "            if i % 100 == 99 or i == dataloader.training_iterations - 1:\n",
    "                model.eval()\n",
    "                with torch.no_grad():\n",
    "                    eval_data, eval_labels_sem, eval_label_lengths_sem, eval_labels_agn, eval_label_lengths_agn = dataloader.next_batch(\"eval\")\n",
    "                    eval_preds_sem, eval_preds_agn = model(eval_data)\n",
    "                    del eval_data\n",
    "\n",
    "                    eval_lengths = Variable(torch.IntTensor([eval_preds_sem.size(0)] * eval_preds_sem.size(1))).to(device)\n",
    "                    error_sem, error_agn, error = multitask_loss(loss_function_sem, loss_function_agn,\n",
    "                                                                 eval_preds_sem, eval_preds_agn,\n",
    "                                                                 eval_labels_sem.detach(), eval_labels_agn.detach(), \n",
    "                                                                 eval_lengths.detach(), \n",
    "                                                                 eval_label_lengths_sem.detach(), eval_label_lengths_agn.detach())\n",
    "                    \n",
    "                    del eval_labels_sem\n",
    "                    del eval_labels_agn\n",
    "                    del eval_lengths\n",
    "                    del eval_label_lengths_sem\n",
    "                    del eval_label_lengths_agn\n",
    "                    del eval_preds_sem\n",
    "                    del eval_preds_agn\n",
    "\n",
    "                    err = error.item()\n",
    "                    del error\n",
    "                        \n",
    "                    ctc_eval.append(err)\n",
    "                    ctc_eval_sem.append(error_sem.item()) \n",
    "                    ctc_eval_agn.append(error_agn.item()) \n",
    "\n",
    "                    if err < best_val:\n",
    "                        best_val = err\n",
    "                        torch.save(model.state_dict(), checkpoint)\n",
    "\n",
    "                print(f'Validation loss: {err:10.8f}')\n",
    "                print(f'Semantic loss: {error_sem.item():10.8f}')\n",
    "                print(f'Agnostic loss: {error_agn.item():10.8f}')\n",
    "                \n",
    "                del err\n",
    "                del error_sem\n",
    "                del error_agn\n",
    "        \n",
    "    return (ctc_train, ctc_train_sem, ctc_train_agn, ctc_eval, ctc_eval_sem, ctc_eval_agn)"
   ]
  },
  {
   "cell_type": "code",
   "execution_count": 21,
   "metadata": {},
   "outputs": [],
   "source": [
    "if not prepared:\n",
    "    ctc_train, ctc_train_sem, ctc_train_agn, ctc_eval, ctc_eval_sem, ctc_eval_agn = train(model, optimizer, scheduler, \n",
    "                                                                                          primus, epochs, save_model)\n",
    "    \n",
    "    iterations = [100*x for x in range(len(ctc_train))]\n",
    "\n",
    "    plt.plot(iterations, ctc_train, label='Training')\n",
    "    plt.plot(iterations, ctc_eval, label='Validation')\n",
    "    plt.plot(iterations, ctc_train_sem, label='Semantic (training)')\n",
    "    plt.plot(iterations, ctc_train_agn, label='Agnostic (training)')\n",
    "    plt.plot(iterations, ctc_eval_sem, label='Semantic (validation)')\n",
    "    plt.plot(iterations, ctc_eval_agn, label='Agnostic (validation)')\n",
    "\n",
    "    plt.title('CTC Loss')\n",
    "    plt.xlabel('Iterations')\n",
    "    plt.ylabel('Loss')\n",
    "    plt.legend()\n",
    "\n",
    "    plt.show()"
   ]
  },
  {
   "cell_type": "code",
   "execution_count": 22,
   "metadata": {},
   "outputs": [],
   "source": [
    "def test(model, dataloader):\n",
    "    with torch.no_grad():\n",
    "        seq_err = 0\n",
    "        \n",
    "        seq_err_sem = 0\n",
    "        seq_err_agn = 0\n",
    "        \n",
    "        symbol_err_sem = 0\n",
    "        symbol_err_agn = 0\n",
    "        \n",
    "        symbol_pct_err_sem = 0\n",
    "        symbol_pct_err_agn = 0\n",
    "\n",
    "        for _ in range(dataloader.test_iterations):\n",
    "            test_batch, test_labels_sem, test_label_lengths_sem, test_labels_agn, test_label_lengths_agn = dataloader.next_batch(\"test\")\n",
    "\n",
    "            test_preds_sem, test_preds_agn = model(test_batch)\n",
    "            del test_batch\n",
    "\n",
    "            test_labels_sem = tensor_to_np_array(test_labels_sem)\n",
    "            test_label_lengths_sem = tensor_to_np_array(test_label_lengths_sem)\n",
    "            test_preds_sem = tensor_to_np_array(test_preds_sem).argmax(2).transpose(1,0)\n",
    "            \n",
    "            test_labels_agn = tensor_to_np_array(test_labels_agn)\n",
    "            test_label_lengths_agn = tensor_to_np_array(test_label_lengths_agn)\n",
    "            test_preds_agn = tensor_to_np_array(test_preds_agn).argmax(2).transpose(1,0)\n",
    "\n",
    "            curr_idx_sem = 0\n",
    "            curr_idx_agn = 0\n",
    "            for i in range(dataloader.batch_size):\n",
    "                length_sem = test_label_lengths_sem[i]\n",
    "                length_agn = test_label_lengths_agn[i]\n",
    "                \n",
    "                pred_sem = test_preds_sem[i]\n",
    "                label_sem = test_labels_sem[curr_idx_sem:curr_idx_sem+length_sem]\n",
    "                pred_agn = test_preds_agn[i]\n",
    "                label_agn = test_labels_agn[curr_idx_agn:curr_idx_agn+length_agn]\n",
    "                \n",
    "                pred_sem = np_to_string(pred_sem, int2word_sem, vocab_size_sem)\n",
    "                label_sem = [int2word_sem[x] for x in label_sem]\n",
    "                pred_agn = np_to_string(pred_agn, int2word_agn, vocab_size_agn)\n",
    "                label_agn = [int2word_agn[x] for x in label_agn]\n",
    "\n",
    "                err_sem = levenshtein_pct(pred_sem, label_sem)\n",
    "                if err_sem > 0:\n",
    "                    seq_err_sem += 1\n",
    "\n",
    "                err_agn = levenshtein_pct(pred_agn, label_agn)\n",
    "                if err_agn > 0:\n",
    "                    seq_err_agn += 1\n",
    "                    \n",
    "                if err_sem > 0 or err_agn > 0:\n",
    "                    seq_err += 1\n",
    "\n",
    "                symbol_err_sem += err_sem\n",
    "                symbol_pct_err_sem += sequence_levenshtein(pred_sem, label_sem)\n",
    "                symbol_err_agn += err_agn\n",
    "                symbol_pct_err_agn += sequence_levenshtein(pred_agn, label_agn)\n",
    "\n",
    "                curr_idx_sem += length_sem\n",
    "                curr_idx_agn += length_agn\n",
    "\n",
    "\n",
    "            del test_labels_sem\n",
    "            del test_preds_sem\n",
    "            del test_label_lengths_sem\n",
    "            del test_labels_agn\n",
    "            del test_preds_agn\n",
    "            del test_label_lengths_agn\n",
    "\n",
    "        dataset_size = dataloader.test_iterations * dataloader.batch_size\n",
    "        \n",
    "        seq_err /= dataset_size\n",
    "        seq_err_sem /= dataset_size\n",
    "        seq_err_agn /= dataset_size\n",
    "        symbol_err_sem /= dataset_size\n",
    "        symbol_pct_err_sem /= dataset_size\n",
    "        symbol_err_agn /= dataset_size\n",
    "        symbol_pct_err_agn /= dataset_size\n",
    "        \n",
    "        del dataset_size\n",
    "        \n",
    "        print(f'Accuracy: {((1-seq_err)*100):3.2f}%')\n",
    "        print(f'Semantic accuracy: {((1-seq_err_sem)*100):3.2f}%')\n",
    "        print(f'Semantic Symbol error rate: {(symbol_err_sem*100):3.2f}%')\n",
    "        print(f'Semantic Symbol confusion rate: {(symbol_pct_err_sem*100):3.2f}%')\n",
    "        print(f'Agnostic accuracy: {((1-seq_err_agn)*100):3.2f}%')\n",
    "        print(f'Agnostic symbol error rate: {(symbol_err_agn*100):3.2f}%')\n",
    "        print(f'Agnostic symbol confusion rate: {(symbol_pct_err_agn*100):3.2f}%')"
   ]
  },
  {
   "cell_type": "code",
   "execution_count": 23,
   "metadata": {},
   "outputs": [
    {
     "name": "stdout",
     "output_type": "stream",
     "text": [
      "Accuracy: 6.17%\n",
      "Semantic accuracy: 14.01%\n",
      "Semantic Symbol error rate: 15.15%\n",
      "Semantic Symbol confusion rate: 6.99%\n",
      "Agnostic accuracy: 14.29%\n",
      "Agnostic symbol error rate: 14.94%\n",
      "Agnostic symbol confusion rate: 9.74%\n"
     ]
    }
   ],
   "source": [
    "test(model, primus)"
   ]
  },
  {
   "cell_type": "code",
   "execution_count": 23,
   "metadata": {},
   "outputs": [
    {
     "data": {
      "text/plain": [
       "<matplotlib.image.AxesImage at 0x29fa2380250>"
      ]
     },
     "execution_count": 23,
     "metadata": {},
     "output_type": "execute_result"
    },
    {
     "data": {
      "image/png": "[encoded data removed]",
      "text/plain": [
       "<Figure size 432x288 with 1 Axes>"
      ]
     },
     "metadata": {
      "needs_background": "light"
     },
     "output_type": "display_data"
    }
   ],
   "source": [
    "sample_path = \"Data/Example/000051652-1_2_1_distorted.jpg\" if distorted else \"Data/Example/000051652-1_2_1.png\"\n",
    "test_img = cv2.imread(sample_path,False)\n",
    "plt.imshow(test_img)"
   ]
  },
  {
   "cell_type": "code",
   "execution_count": 24,
   "metadata": {},
   "outputs": [
    {
     "data": {
      "text/plain": [
       "<matplotlib.image.AxesImage at 0x29fa2988ac0>"
      ]
     },
     "execution_count": 24,
     "metadata": {},
     "output_type": "execute_result"
    },
    {
     "data": {
      "image/png": "[encoded data removed]",
      "text/plain": [
       "<Figure size 432x288 with 1 Axes>"
      ]
     },
     "metadata": {
      "needs_background": "light"
     },
     "output_type": "display_data"
    }
   ],
   "source": [
    "test_img = resize(test_img, 128)\n",
    "test_img = normalize(test_img)\n",
    "plt.imshow(test_img)"
   ]
  },
  {
   "cell_type": "code",
   "execution_count": 25,
   "metadata": {},
   "outputs": [
    {
     "data": {
      "text/plain": [
       "(1, 1, 128, 760)"
      ]
     },
     "execution_count": 25,
     "metadata": {},
     "output_type": "execute_result"
    }
   ],
   "source": [
    "test_img = test_img.reshape((1,1,128,-1))\n",
    "test_img.shape"
   ]
  },
  {
   "cell_type": "code",
   "execution_count": 26,
   "metadata": {},
   "outputs": [
    {
     "data": {
      "text/plain": [
       "(torch.Size([376, 1, 1782]), torch.Size([376, 1, 759]))"
      ]
     },
     "execution_count": 26,
     "metadata": {},
     "output_type": "execute_result"
    }
   ],
   "source": [
    "test_torch = torch.tensor(test_img, dtype=torch.float32).to(device)\n",
    "\n",
    "pred_sem, pred_agn = model(test_torch)\n",
    "\n",
    "pred_sem.size(), pred_agn.size()"
   ]
  },
  {
   "cell_type": "code",
   "execution_count": 27,
   "metadata": {},
   "outputs": [
    {
     "data": {
      "text/plain": [
       "(array([   1,  229, 1751,  267, 1781, 1781, 1781, 1781, 1781, 1781, 1781,\n",
       "        1781, 1781, 1781, 1781, 1781, 1781, 1781, 1781, 1781, 1781, 1781,\n",
       "        1781, 1781, 1781, 1781, 1781, 1781, 1781, 1781, 1781, 1781, 1781,\n",
       "        1781, 1781, 1781, 1781, 1781, 1781, 1781, 1781, 1781, 1781, 1781,\n",
       "        1781, 1781, 1781, 1781, 1781, 1781, 1781, 1781, 1781, 1781, 1781,\n",
       "        1781, 1781, 1781, 1781, 1781, 1781, 1781, 1781, 1781, 1781, 1781,\n",
       "        1781, 1781, 1781, 1781, 1781, 1781, 1781, 1781, 1781, 1781, 1781,\n",
       "        1781, 1781, 1781, 1781, 1781, 1781, 1781, 1781, 1781, 1781, 1781,\n",
       "        1781, 1781, 1781, 1781, 1781, 1781, 1781, 1781, 1781, 1781, 1781,\n",
       "        1781, 1781, 1781, 1781, 1781, 1781, 1781, 1781, 1781, 1781, 1781,\n",
       "        1781, 1781, 1781, 1781, 1781, 1781, 1781, 1781, 1781, 1781, 1781,\n",
       "        1781, 1781, 1781, 1781, 1781, 1781, 1781, 1781, 1781, 1781, 1781,\n",
       "        1781, 1781, 1781, 1781, 1781, 1781, 1781, 1781, 1781, 1781, 1781,\n",
       "        1781, 1781, 1781, 1781, 1781, 1781, 1781, 1781, 1781, 1781, 1781,\n",
       "        1781, 1781,    0, 1727, 1781, 1781, 1781, 1717, 1781,  678,    0,\n",
       "           0,  688, 1781, 1781, 1781, 1599, 1781,    0, 1314, 1781, 1781,\n",
       "        1781, 1018, 1781,    0, 1781,  823, 1781,  823, 1781, 1727, 1781,\n",
       "           0, 1781, 1781, 1781, 1781, 1781, 1781, 1781, 1781, 1781, 1781,\n",
       "        1781, 1781, 1781, 1781, 1781, 1781, 1781, 1781, 1781, 1781, 1781,\n",
       "        1781, 1781, 1781, 1781, 1781, 1781, 1781, 1781, 1781, 1781, 1781,\n",
       "        1781, 1781, 1781, 1781, 1781, 1781, 1781, 1781, 1781, 1781, 1781,\n",
       "        1781, 1781, 1781, 1781, 1781, 1781, 1781, 1781, 1781, 1781, 1781,\n",
       "        1781, 1781, 1781, 1781, 1781, 1781, 1781, 1781, 1781, 1781, 1781,\n",
       "        1781, 1781, 1781, 1781, 1781, 1781, 1781, 1781, 1781, 1781, 1781,\n",
       "        1781, 1781, 1781, 1781, 1781, 1781, 1781, 1781, 1781, 1781, 1781,\n",
       "        1781, 1781, 1781, 1781, 1781, 1781, 1781, 1781, 1781, 1781, 1781,\n",
       "        1781, 1781, 1781, 1781, 1781, 1781, 1781, 1781, 1781, 1781, 1781,\n",
       "        1781, 1781, 1781, 1781, 1781, 1781, 1781, 1781, 1781, 1781, 1781,\n",
       "        1781, 1781, 1781, 1781, 1781, 1781, 1781, 1781, 1781, 1781, 1781,\n",
       "        1781, 1781, 1781, 1781, 1781, 1781, 1781, 1781, 1781, 1781, 1781,\n",
       "        1781, 1781, 1781, 1781, 1781, 1781, 1781, 1781, 1781, 1781, 1781,\n",
       "        1781, 1781, 1781, 1781, 1781, 1781, 1781, 1781, 1781, 1781, 1781,\n",
       "        1781, 1781, 1781, 1781, 1781, 1781, 1781, 1781, 1781, 1781, 1781,\n",
       "        1781, 1781, 1781, 1781, 1781, 1781, 1781, 1781, 1781, 1781, 1781,\n",
       "        1781, 1781], dtype=int64),\n",
       " array([ 65,   5,   3,  15, 758,  85,  91, 758, 758, 758, 758,  86, 758,\n",
       "        232, 232, 232, 758, 758, 758, 758, 758, 758, 758, 758, 758, 758,\n",
       "        758, 758, 758, 758, 758, 758, 758, 758, 758, 758, 758, 758, 758,\n",
       "        758, 758, 758, 758, 758, 758, 758, 758, 758, 758, 758, 758, 758,\n",
       "        758, 758, 758, 758, 758, 758, 758, 758, 758, 758, 758, 758, 758,\n",
       "        758, 758, 758, 758, 758, 758, 758, 758, 758, 758, 758, 758, 758,\n",
       "        758, 758, 758, 758, 758, 758, 758, 758, 758, 758, 758, 758, 758,\n",
       "        758, 758, 758, 758, 758, 758, 758, 758, 758, 758, 758, 758, 758,\n",
       "        758, 758, 758, 758, 758, 758, 758, 758, 758, 758, 758, 758, 758,\n",
       "        758, 758, 758, 758, 758, 758, 758, 758, 758, 758, 758, 758, 758,\n",
       "        758, 758, 758, 758, 758, 758, 758, 758, 758, 758, 758, 758, 758,\n",
       "        758, 758, 758, 758, 758, 758, 758, 758, 758, 758, 758, 758,  64,\n",
       "         64, 711, 758, 758, 758, 708, 758, 572,  64,  64, 631, 113, 758,\n",
       "        758, 570,  64,  64, 644, 114, 758, 758, 573, 758,  64, 758, 584,\n",
       "        758, 584, 758, 711, 758,  64, 758, 758, 758, 758, 758, 758, 758,\n",
       "        758, 758, 758, 758, 758, 758, 758, 758, 758, 758, 758, 758, 758,\n",
       "        758, 758, 758, 758, 758, 758, 758, 758, 758, 758, 758, 758, 758,\n",
       "        758, 758, 758, 758, 758, 758, 758, 758, 758, 758, 758, 758, 758,\n",
       "        758, 758, 758, 758, 758, 758, 758, 758, 758, 758, 758, 758, 758,\n",
       "        758, 758, 758, 758, 758, 758, 758, 758, 758, 758, 758, 758, 758,\n",
       "        758, 758, 758, 758, 758, 758, 758, 758, 758, 758, 758, 758, 758,\n",
       "        758, 758, 758, 758, 758, 758, 758, 758, 758, 758, 758, 758, 758,\n",
       "        758, 758, 758, 758, 758, 758, 758, 758, 758, 758, 758, 758, 758,\n",
       "        758, 758, 758, 758, 758, 758, 758, 758, 758, 758, 758, 758, 758,\n",
       "        758, 758, 758, 758, 758, 758, 758, 758, 758, 758, 758, 758, 758,\n",
       "        758, 758, 758, 758, 758, 758, 758, 758, 758, 758, 758, 758, 758,\n",
       "        758, 758, 758, 758, 758, 758, 758, 758, 758, 758, 758, 758, 758,\n",
       "        758, 758, 758, 758, 758, 758, 758, 758, 758, 758, 758, 758, 758,\n",
       "        758, 758, 758, 758, 758, 758, 758, 758, 758, 758, 758, 758],\n",
       "       dtype=int64))"
      ]
     },
     "execution_count": 27,
     "metadata": {},
     "output_type": "execute_result"
    }
   ],
   "source": [
    "pred_sem = tensor_to_np_array(pred_sem).argmax(2).flatten()\n",
    "pred_agn = tensor_to_np_array(pred_agn).argmax(2).flatten()\n",
    "\n",
    "pred_sem, pred_agn"
   ]
  },
  {
   "cell_type": "code",
   "execution_count": 28,
   "metadata": {},
   "outputs": [
    {
     "data": {
      "text/plain": [
       "['clef-C1',\n",
       " 'keySignature-EbM',\n",
       " 'timeSignature-2/4',\n",
       " 'multirest-23',\n",
       " 'barline',\n",
       " 'rest-quarter',\n",
       " 'rest-eighth',\n",
       " 'note-Bb4_eighth',\n",
       " 'barline',\n",
       " 'note-Bb4_quarter.',\n",
       " 'note-G4_eighth',\n",
       " 'barline',\n",
       " 'note-Eb5_quarter.',\n",
       " 'note-D5_eighth',\n",
       " 'barline',\n",
       " 'note-C5_eighth',\n",
       " 'note-C5_eighth',\n",
       " 'rest-quarter',\n",
       " 'barline']"
      ]
     },
     "execution_count": 28,
     "metadata": {},
     "output_type": "execute_result"
    }
   ],
   "source": [
    "sample_gt_file_sem = open('Data/Example/000051652-1_2_1.semantic', 'r')\n",
    "test_label_sem = sample_gt_file_sem.readline().rstrip().split('\\t')\n",
    "sample_gt_file_sem.close()\n",
    "\n",
    "test_label_sem"
   ]
  },
  {
   "cell_type": "code",
   "execution_count": 29,
   "metadata": {},
   "outputs": [
    {
     "data": {
      "text/plain": [
       "['clef-C1',\n",
       " 'keySignature-EbM',\n",
       " 'timeSignature-2/4',\n",
       " 'multirest-25',\n",
       " 'barline',\n",
       " 'rest-quarter',\n",
       " 'rest-eighth',\n",
       " 'note-Bb4_eighth',\n",
       " 'barline',\n",
       " 'note-Bb4_quarter.',\n",
       " 'note-G4_eighth',\n",
       " 'barline',\n",
       " 'note-Eb5_quarter.',\n",
       " 'note-D5_eighth',\n",
       " 'barline',\n",
       " 'note-C5_eighth',\n",
       " 'note-C5_eighth',\n",
       " 'rest-quarter',\n",
       " 'barline']"
      ]
     },
     "execution_count": 29,
     "metadata": {},
     "output_type": "execute_result"
    }
   ],
   "source": [
    "pred_sem_str = np_to_string(pred_sem, int2word_sem, vocab_size_sem)\n",
    "pred_sem_str"
   ]
  },
  {
   "cell_type": "code",
   "execution_count": 30,
   "metadata": {},
   "outputs": [
    {
     "data": {
      "text/plain": [
       "1"
      ]
     },
     "execution_count": 30,
     "metadata": {},
     "output_type": "execute_result"
    }
   ],
   "source": [
    "levenshtein(pred_sem_str, test_label_sem)"
   ]
  },
  {
   "cell_type": "code",
   "execution_count": 31,
   "metadata": {},
   "outputs": [
    {
     "data": {
      "text/plain": [
       "0.0043859649122807015"
      ]
     },
     "execution_count": 31,
     "metadata": {},
     "output_type": "execute_result"
    }
   ],
   "source": [
    "sequence_levenshtein(pred_sem_str, test_label_sem)"
   ]
  },
  {
   "cell_type": "code",
   "execution_count": 32,
   "metadata": {},
   "outputs": [
    {
     "data": {
      "text/plain": [
       "['clef.C-L1',\n",
       " 'accidental.flat-L4',\n",
       " 'accidental.flat-L2',\n",
       " 'accidental.flat-S3',\n",
       " 'digit.2-L4',\n",
       " 'digit.4-L2',\n",
       " 'digit.2-S5',\n",
       " 'digit.3-S5',\n",
       " 'multirest-L3',\n",
       " 'barline-L1',\n",
       " 'rest.quarter-L3',\n",
       " 'rest.eighth-L3',\n",
       " 'note.eighth-L4',\n",
       " 'barline-L1',\n",
       " 'note.quarter-L4',\n",
       " 'dot-S4',\n",
       " 'note.eighth-L3',\n",
       " 'barline-L1',\n",
       " 'note.quarter-S5',\n",
       " 'dot-S5',\n",
       " 'note.eighth-L5',\n",
       " 'barline-L1',\n",
       " 'note.eighth-S4',\n",
       " 'note.eighth-S4',\n",
       " 'rest.quarter-L3',\n",
       " 'barline-L1']"
      ]
     },
     "execution_count": 32,
     "metadata": {},
     "output_type": "execute_result"
    }
   ],
   "source": [
    "sample_gt_file_agn = open('Data/Example/000051652-1_2_1.agnostic', 'r')\n",
    "test_label_agn = sample_gt_file_agn.readline().rstrip().split('\\t')\n",
    "sample_gt_file_agn.close()\n",
    "\n",
    "test_label_agn"
   ]
  },
  {
   "cell_type": "code",
   "execution_count": 33,
   "metadata": {},
   "outputs": [
    {
     "data": {
      "text/plain": [
       "['clef.C-L1',\n",
       " 'accidental.flat-L4',\n",
       " 'accidental.flat-L2',\n",
       " 'accidental.flat-S3',\n",
       " 'digit.2-L4',\n",
       " 'digit.4-L2',\n",
       " 'digit.2-S5',\n",
       " 'multirest-L3',\n",
       " 'barline-L1',\n",
       " 'rest.quarter-L3',\n",
       " 'rest.eighth-L3',\n",
       " 'note.eighth-L4',\n",
       " 'barline-L1',\n",
       " 'note.quarter-L4',\n",
       " 'dot-S4',\n",
       " 'note.eighth-L3',\n",
       " 'barline-L1',\n",
       " 'note.quarter-S5',\n",
       " 'dot-S5',\n",
       " 'note.eighth-L5',\n",
       " 'barline-L1',\n",
       " 'note.eighth-S4',\n",
       " 'note.eighth-S4',\n",
       " 'rest.quarter-L3',\n",
       " 'barline-L1']"
      ]
     },
     "execution_count": 33,
     "metadata": {},
     "output_type": "execute_result"
    }
   ],
   "source": [
    "pred_agn_str = np_to_string(pred_agn, int2word_agn, vocab_size_agn)\n",
    "pred_agn_str"
   ]
  },
  {
   "cell_type": "code",
   "execution_count": 34,
   "metadata": {},
   "outputs": [
    {
     "data": {
      "text/plain": [
       "1"
      ]
     },
     "execution_count": 34,
     "metadata": {},
     "output_type": "execute_result"
    }
   ],
   "source": [
    "levenshtein(pred_agn_str, test_label_agn)"
   ]
  },
  {
   "cell_type": "code",
   "execution_count": 35,
   "metadata": {},
   "outputs": [
    {
     "data": {
      "text/plain": [
       "0.038461538461538464"
      ]
     },
     "execution_count": 35,
     "metadata": {},
     "output_type": "execute_result"
    }
   ],
   "source": [
    "sequence_levenshtein(pred_agn_str, test_label_agn)"
   ]
  },
  {
   "cell_type": "code",
   "execution_count": null,
   "metadata": {},
   "outputs": [],
   "source": []
  }
 ],
 "metadata": {
  "kernelspec": {
   "display_name": "bkai",
   "language": "python",
   "name": "bkai"
  },
  "language_info": {
   "codemirror_mode": {
    "name": "ipython",
    "version": 3
   },
   "file_extension": ".py",
   "mimetype": "text/x-python",
   "name": "python",
   "nbconvert_exporter": "python",
   "pygments_lexer": "ipython3",
   "version": "3.8.11"
  }
 },
 "nbformat": 4,
 "nbformat_minor": 4
}

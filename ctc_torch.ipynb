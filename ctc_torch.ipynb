{
 "cells": [
  {
   "cell_type": "code",
   "execution_count": 1,
   "metadata": {},
   "outputs": [],
   "source": [
    "import cv2\n",
    "import matplotlib.pyplot as plt\n",
    "import numpy as np\n",
    "import random\n",
    "\n",
    "import torch\n",
    "import torch.nn as nn\n",
    "import torch.nn.functional as F\n",
    "import torch.optim as optim\n",
    "from torch.autograd import Variable\n",
    "\n",
    "import gc\n",
    "gc.enable()"
   ]
  },
  {
   "cell_type": "code",
   "execution_count": 2,
   "metadata": {},
   "outputs": [],
   "source": [
    "torch.backends.cudnn.benchmark = True\n",
    "torch.backends.cudnn.enabled = True"
   ]
  },
  {
   "cell_type": "code",
   "execution_count": 3,
   "metadata": {},
   "outputs": [],
   "source": [
    "device = 'cuda' if torch.cuda.is_available() else 'cpu'\n",
    "#assert device == 'cuda:0' "
   ]
  },
  {
   "cell_type": "code",
   "execution_count": 4,
   "metadata": {},
   "outputs": [],
   "source": [
    "def normalize(image):\n",
    "    return (255. - image)/255.\n",
    "\n",
    "\n",
    "def resize(image, height):\n",
    "    #new_width = old_width * (new_height/old_height)\n",
    "    width = int(float(height * image.shape[1]) / image.shape[0]) \n",
    "    sample_img = cv2.resize(image, (width, height))\n",
    "    \n",
    "    del width\n",
    "    \n",
    "    return sample_img"
   ]
  },
  {
   "cell_type": "code",
   "execution_count": 5,
   "metadata": {},
   "outputs": [],
   "source": [
    "def levenshtein(a,b):\n",
    "    \"Computes the Levenshtein distance between a and b.\"\n",
    "    n, m = len(a), len(b)\n",
    "\n",
    "    if n > m:\n",
    "        a,b = b,a\n",
    "        n,m = m,n\n",
    "\n",
    "    current = range(n+1)\n",
    "    for i in range(1,m+1):\n",
    "        previous, current = current, [i]+[0]*n\n",
    "        for j in range(1,n+1):\n",
    "            add, delete = previous[j]+1, current[j-1]+1\n",
    "            change = previous[j-1]\n",
    "            if a[j-1] != b[i-1]:\n",
    "                change = change + 1\n",
    "            current[j] = min(add, delete, change)\n",
    "            \n",
    "    del a\n",
    "    del b\n",
    "\n",
    "    return current[n]"
   ]
  },
  {
   "cell_type": "code",
   "execution_count": 6,
   "metadata": {},
   "outputs": [],
   "source": [
    "def levenshtein_pct(a,b):\n",
    "    max_len = max(len(a), len(b))\n",
    "    \n",
    "    return levenshtein(a,b)/max_len"
   ]
  },
  {
   "cell_type": "code",
   "execution_count": 7,
   "metadata": {},
   "outputs": [],
   "source": [
    "def sequence_levenshtein(a,b):\n",
    "    n, m = len(a), len(b)\n",
    "    dist = 0\n",
    "\n",
    "    if n > m:\n",
    "        a,b = b,a\n",
    "        n,m = m,n\n",
    "        \n",
    "    for i in range(n):\n",
    "        word = a[i]\n",
    "        \n",
    "        b_seq = b[:len(b)-n+i+1]\n",
    "        \n",
    "        seq_dist = [levenshtein_pct(word, x) for x in b_seq]\n",
    "        best_val = min(seq_dist)\n",
    "        dest_idx = seq_dist.index(best_val)\n",
    "        \n",
    "        dist += dest_idx + best_val\n",
    "        \n",
    "        if i == n - 1:\n",
    "            dist += len(b) - dest_idx - 1\n",
    "            break\n",
    "            \n",
    "        b = b[dest_idx+1:]\n",
    "            \n",
    "\n",
    "    return dist/m"
   ]
  },
  {
   "cell_type": "code",
   "execution_count": 8,
   "metadata": {},
   "outputs": [],
   "source": [
    "def tensor_to_np_array(t):\n",
    "    t = t.cpu().detach().numpy()\n",
    "    \n",
    "    return t"
   ]
  },
  {
   "cell_type": "code",
   "execution_count": 9,
   "metadata": {},
   "outputs": [],
   "source": [
    "def np_to_string(arr, int2word, blank):\n",
    "    result = []\n",
    "    for i in range(len(arr)):\n",
    "        if arr[i] != blank:\n",
    "            if i == 0 or arr[i] != arr[i-1]:\n",
    "                result.append(int2word[arr[i]])\n",
    "            \n",
    "    return result"
   ]
  },
  {
   "cell_type": "code",
   "execution_count": 10,
   "metadata": {},
   "outputs": [],
   "source": [
    "def load_symbols(dict_path):\n",
    "    word2int = {} #map symbols to numeric values\n",
    "    int2word = {} #map numeric values to symbols\n",
    "\n",
    "    dict_file = open(dict_path,'r')\n",
    "    dict_list = dict_file.read().splitlines()\n",
    "    \n",
    "    for word in dict_list:\n",
    "        if not word in word2int:\n",
    "            word_idx = len(word2int)\n",
    "            word2int[word] = word_idx\n",
    "            int2word[word_idx] = word\n",
    "\n",
    "    dict_file.close()\n",
    "    \n",
    "    del dict_file\n",
    "    \n",
    "    return (word2int, int2word, len(int2word))"
   ]
  },
  {
   "cell_type": "code",
   "execution_count": 11,
   "metadata": {},
   "outputs": [],
   "source": [
    "class PriMuS:\n",
    "    # Data preprocessor/loader for the model\n",
    "    gt_element_separator = '-'\n",
    "    PAD_COLUMN = 0\n",
    "\n",
    "\n",
    "    def __init__(self, corpus_dirpath, corpus_path, word2int, semantic, \n",
    "                 img_height, batch_size, img_channels, \n",
    "                 train_split=0.5, test_split=0.5, shuffle=True,\n",
    "                 distorted=False, device='cpu'\n",
    "                ):\n",
    "        corpus_file = open(corpus_path,'r')\n",
    "        corpus_list = corpus_file.read().splitlines()\n",
    "        corpus_file.close()\n",
    "        \n",
    "        del corpus_file\n",
    "\n",
    "        # Train and validation split\n",
    "        if shuffle:\n",
    "            random.shuffle(corpus_list) \n",
    "            \n",
    "        train_idx = int(len(corpus_list) * train_split) \n",
    "        test_idx = int(len(corpus_list) * test_split) \n",
    "\n",
    "        self.training_list = corpus_list[:train_idx]\n",
    "        self.validation_list = corpus_list[train_idx:-test_idx]\n",
    "        self.test_list = corpus_list[-test_idx:]\n",
    "        \n",
    "        del train_idx\n",
    "        del test_idx\n",
    "\n",
    "        print ('Training with ' + str(len(self.training_list)) + ', validating with ' \n",
    "               + str(len(self.validation_list)) + ', and testing with ' + str(len(self.test_list)))\n",
    "        \n",
    "        self.semantic = semantic\n",
    "        self.corpus_dirpath = corpus_dirpath\n",
    "        self.distorted = distorted\n",
    "        self.device = device\n",
    "        \n",
    "        self.current_idx = 0 #identify current index in list of samples\n",
    "        self.current_eval_idx = 0\n",
    "        self.current_test_idx = 0\n",
    "\n",
    "        # Dictionary\n",
    "        self.word2int = word2int #map symbols to numeric values\n",
    "\n",
    "        self.vocabulary_size = len(self.word2int)\n",
    "        \n",
    "        self.img_height = img_height\n",
    "        self.batch_size = batch_size\n",
    "        self.img_channels = img_channels\n",
    "        \n",
    "        self.training_iterations = int(len(self.training_list)/self.batch_size) + 1\n",
    "        self.eval_iterations = int(len(self.validation_list)/self.batch_size) + 1\n",
    "        self.test_iterations = int(len(self.test_list)/self.batch_size) + 1\n",
    "        \n",
    "    \n",
    "    def load_data(self, filepath):\n",
    "        sample_fullpath = self.corpus_dirpath + '/' + filepath + '/' + filepath\n",
    "        #print(sample_filepath)\n",
    "\n",
    "        # IMAGE\n",
    "        img_src = sample_fullpath + '_distorted.jpg' if self.distorted else sample_fullpath + '.png'\n",
    "        image = cv2.imread(img_src, False)  # Grayscale is assumed!\n",
    "        \n",
    "        del img_src\n",
    "        \n",
    "        image = resize(image, self.img_height)\n",
    "        image = normalize(image)\n",
    "        \n",
    "\n",
    "        # GROUND TRUTH\n",
    "        if self.semantic:\n",
    "            sample_full_filepath = sample_fullpath + '.semantic'\n",
    "        else:\n",
    "            sample_full_filepath = sample_fullpath + '.agnostic'\n",
    "\n",
    "        sample_gt_file = open(sample_full_filepath, 'r')\n",
    "        sample_gt_plain = sample_gt_file.readline().rstrip().split('\\t')\n",
    "        sample_gt_file.close()\n",
    "        \n",
    "        del sample_fullpath\n",
    "\n",
    "        label = [self.word2int[lab] for lab in sample_gt_plain] #label: list of numeric values\n",
    "        \n",
    "        del sample_gt_plain\n",
    "        \n",
    "        return (image, label)\n",
    "    \n",
    "    \n",
    "    def transform_to_batch(self, images):\n",
    "        # Extend all images to match the longest in the batch\n",
    "        image_widths = [img.shape[1] for img in images]\n",
    "        max_image_width = max(image_widths)\n",
    "        \n",
    "        del image_widths\n",
    "\n",
    "        batch_images = np.ones(shape=[len(images),\n",
    "                                      self.img_channels,\n",
    "                                      self.img_height,\n",
    "                                      max_image_width], dtype=np.float32)*self.PAD_COLUMN\n",
    "        # batch shape: (b, c, h, w)\n",
    "        \n",
    "        del max_image_width\n",
    "\n",
    "        for i, img in enumerate(images):\n",
    "            batch_images[i, 0, 0:img.shape[0], 0:img.shape[1]] = img\n",
    "        # shorter images will be padded\n",
    "\n",
    "        return batch_images\n",
    "\n",
    "        \n",
    "    def next_batch(self, phase=\"train\"):\n",
    "        # Create a batch\n",
    "        images = [] \n",
    "        labels = []\n",
    "\n",
    "        if phase == \"train\":\n",
    "            for _ in range(self.batch_size):\n",
    "                image, label = self.load_data(self.training_list[self.current_idx])\n",
    "                images.append(image)\n",
    "                labels.append(label)\n",
    "\n",
    "                self.current_idx = (self.current_idx + 1) % len(self.training_list) #increment index, turn back to beginning if overflow\n",
    "        elif phase == \"eval\":\n",
    "            for _ in range(self.batch_size):\n",
    "                image, label = self.load_data(self.validation_list[self.current_eval_idx])\n",
    "                images.append(image)\n",
    "                labels.append(label)\n",
    "                \n",
    "                self.current_eval_idx = (self.current_eval_idx + 1) % len(self.validation_list)\n",
    "        elif phase == \"test\":\n",
    "            for _ in range(self.batch_size):\n",
    "                image, label = self.load_data(self.test_list[self.current_test_idx])\n",
    "                images.append(image)\n",
    "                labels.append(label)\n",
    "            \n",
    "                self.current_test_idx = (self.current_test_idx + 1) % len(self.test_list)\n",
    "\n",
    "        # Transform to batch\n",
    "        batch_images = self.transform_to_batch(images)\n",
    "        target_lengths = [len(x) for x in labels]\n",
    "        \n",
    "        flattened_labels = []\n",
    "        for label in labels:\n",
    "            flattened_labels += label\n",
    "            \n",
    "        del labels\n",
    "        \n",
    "        batch_images = torch.from_numpy(batch_images).to(self.device)\n",
    "        labels = torch.tensor(flattened_labels).to(self.device)\n",
    "        target_lengths = torch.tensor(target_lengths, dtype=torch.int32).to(self.device)\n",
    "\n",
    "        return (batch_images, labels, target_lengths)"
   ]
  },
  {
   "cell_type": "code",
   "execution_count": 12,
   "metadata": {},
   "outputs": [],
   "source": [
    "class BidirectionalLSTM(nn.Module):\n",
    "\n",
    "    def __init__(self, nIn, nHidden, nOut, dropout=0):\n",
    "        super(BidirectionalLSTM, self).__init__()\n",
    "\n",
    "        self.rnn = nn.LSTM(nIn, nHidden, bidirectional=True, dropout=dropout)\n",
    "        self.embedding = nn.Linear(nHidden * 2, nOut)\n",
    "        \n",
    "\n",
    "    def forward(self, input):\n",
    "        recurrent, _ = self.rnn(input)\n",
    "        T, b, h = recurrent.size()\n",
    "        t_rec = recurrent.view(T * b, h)\n",
    "        \n",
    "        del h\n",
    "        del recurrent\n",
    "\n",
    "        output = self.embedding(t_rec)  # [T * b, nOut]\n",
    "        output = output.view(T, b, -1)\n",
    "        \n",
    "        del T\n",
    "        del b\n",
    "\n",
    "        return output\n",
    "\n",
    "\n",
    "class CRNN(nn.Module):\n",
    "\n",
    "    def __init__(self, input_size, img_height, nclass, conv_layers, rnn_hidden_states, dropout=0.5, kernel_size=3, pooling_size=2):\n",
    "        super(CRNN, self).__init__()\n",
    "        assert img_height % 16 == 0, 'img_height has to be a multiple of 16'\n",
    "\n",
    "        self.cnn = nn.Sequential()\n",
    "        for i in range(len(conv_layers)):\n",
    "            input_channels = input_size if i == 0 else conv_layers[i-1]\n",
    "            output_channels = conv_layers[i]\n",
    "\n",
    "            self.cnn.add_module('conv{0}'.format(i),\n",
    "                                nn.Conv2d(input_channels, output_channels, kernel_size=kernel_size, padding = 1))\n",
    "            self.cnn.add_module('batchnorm{0}'.format(i), nn.BatchNorm2d(output_channels))\n",
    "            self.cnn.add_module('relu{0}'.format(i), nn.LeakyReLU(0.2, inplace=True))\n",
    "            self.cnn.add_module('pooling{0}'.format(i), nn.MaxPool2d(pooling_size, 2))\n",
    "            \n",
    "            del input_channels\n",
    "            del output_channels\n",
    "            \n",
    "        self.rnn = nn.Sequential()\n",
    "        for i in range(len(rnn_hidden_states)):\n",
    "            inC = conv_layers[-1] if i == 0 else rnn_hidden_states[i-1]\n",
    "            \n",
    "            if i < len(rnn_hidden_states) - 1:\n",
    "                self.rnn.add_module('BiLSTM{0}'.format(i), \n",
    "                                    BidirectionalLSTM(inC, rnn_hidden_states[i], \n",
    "                                                      rnn_hidden_states[i], dropout=dropout))\n",
    "            else:\n",
    "                self.rnn.add_module('BiLSTM{0}'.format(i), \n",
    "                                    BidirectionalLSTM(inC, rnn_hidden_states[i], nclass))\n",
    "                \n",
    "            del inC\n",
    "            \n",
    "        self.activation = nn.LogSoftmax(2)\n",
    "        \n",
    "\n",
    "    def forward(self, input):\n",
    "        # conv features\n",
    "        conv = self.cnn(input)\n",
    "        b, c, h, w = conv.size()\n",
    "        conv = conv.view(b, c, -1)\n",
    "        conv = conv.permute(2, 0, 1)  # [w, b, c]\n",
    "        \n",
    "        del b\n",
    "        del c\n",
    "        del h\n",
    "        del w\n",
    "\n",
    "        # rnn features\n",
    "        output = self.rnn(conv)\n",
    "        output = self.activation(output)\n",
    "\n",
    "        return output"
   ]
  },
  {
   "cell_type": "code",
   "execution_count": 20,
   "metadata": {},
   "outputs": [],
   "source": [
    "#Train model\n",
    "corpus = 'Data/Corpus' #Path to the corpus\n",
    "set_path = 'Data/Corpus_list.txt' #Path to the set file\n",
    "save_model = 'Models/trained_agnostic_model.pth' #Path to save the model\n",
    "semantic = False #Change this value and save_model to determine semantic or agnostic model\n",
    "vocabulary = 'Data/vocabulary_semantic.txt' if semantic else 'Data/vocabulary_agnostic.txt' #Path to the vocabulary file\n",
    "\n",
    "train_split = 0.7\n",
    "test_split = 0.1"
   ]
  },
  {
   "cell_type": "code",
   "execution_count": 21,
   "metadata": {},
   "outputs": [],
   "source": [
    "word2int, int2word, vocab_size = load_symbols(vocabulary)"
   ]
  },
  {
   "cell_type": "code",
   "execution_count": 22,
   "metadata": {},
   "outputs": [],
   "source": [
    "img_height = 128\n",
    "img_width = None\n",
    "batch_size = 4\n",
    "img_channels = 1\n",
    "conv_channels = [32, 64, 128, 256]\n",
    "conv_filter_size = 3\n",
    "conv_pooling_size = 2\n",
    "rnn_hidden_states = [256,256]"
   ]
  },
  {
   "cell_type": "code",
   "execution_count": 23,
   "metadata": {},
   "outputs": [],
   "source": [
    "# Parameterization\n",
    "epochs = 5\n",
    "dropout = 0.5\n",
    "nclasses = vocab_size + 1\n",
    "input_size = 1\n",
    "\n",
    "prepared = True #To ignore training\n",
    "distorted = False #To change dataset"
   ]
  },
  {
   "cell_type": "code",
   "execution_count": 24,
   "metadata": {},
   "outputs": [
    {
     "name": "stdout",
     "output_type": "stream",
     "text": [
      "CRNN(\n",
      "  (cnn): Sequential(\n",
      "    (conv0): Conv2d(1, 32, kernel_size=(3, 3), stride=(1, 1), padding=(1, 1))\n",
      "    (batchnorm0): BatchNorm2d(32, eps=1e-05, momentum=0.1, affine=True, track_running_stats=True)\n",
      "    (relu0): LeakyReLU(negative_slope=0.2, inplace=True)\n",
      "    (pooling0): MaxPool2d(kernel_size=2, stride=2, padding=0, dilation=1, ceil_mode=False)\n",
      "    (conv1): Conv2d(32, 64, kernel_size=(3, 3), stride=(1, 1), padding=(1, 1))\n",
      "    (batchnorm1): BatchNorm2d(64, eps=1e-05, momentum=0.1, affine=True, track_running_stats=True)\n",
      "    (relu1): LeakyReLU(negative_slope=0.2, inplace=True)\n",
      "    (pooling1): MaxPool2d(kernel_size=2, stride=2, padding=0, dilation=1, ceil_mode=False)\n",
      "    (conv2): Conv2d(64, 128, kernel_size=(3, 3), stride=(1, 1), padding=(1, 1))\n",
      "    (batchnorm2): BatchNorm2d(128, eps=1e-05, momentum=0.1, affine=True, track_running_stats=True)\n",
      "    (relu2): LeakyReLU(negative_slope=0.2, inplace=True)\n",
      "    (pooling2): MaxPool2d(kernel_size=2, stride=2, padding=0, dilation=1, ceil_mode=False)\n",
      "    (conv3): Conv2d(128, 256, kernel_size=(3, 3), stride=(1, 1), padding=(1, 1))\n",
      "    (batchnorm3): BatchNorm2d(256, eps=1e-05, momentum=0.1, affine=True, track_running_stats=True)\n",
      "    (relu3): LeakyReLU(negative_slope=0.2, inplace=True)\n",
      "    (pooling3): MaxPool2d(kernel_size=2, stride=2, padding=0, dilation=1, ceil_mode=False)\n",
      "  )\n",
      "  (rnn): Sequential(\n",
      "    (BiLSTM0): BidirectionalLSTM(\n",
      "      (rnn): LSTM(256, 256, dropout=0.5, bidirectional=True)\n",
      "      (embedding): Linear(in_features=512, out_features=256, bias=True)\n",
      "    )\n",
      "    (BiLSTM1): BidirectionalLSTM(\n",
      "      (rnn): LSTM(256, 256, bidirectional=True)\n",
      "      (embedding): Linear(in_features=512, out_features=759, bias=True)\n",
      "    )\n",
      "  )\n",
      "  (activation): LogSoftmax(dim=2)\n",
      ")\n"
     ]
    }
   ],
   "source": [
    "model = CRNN(input_size, img_height, nclasses, \n",
    "             conv_channels, \n",
    "             rnn_hidden_states, \n",
    "             dropout=dropout)\n",
    "\n",
    "if torch.cuda.is_available():\n",
    "    model.to(device)\n",
    "    \n",
    "if prepared:\n",
    "    model.load_state_dict(torch.load(save_model))\n",
    "    \n",
    "loss_function = nn.CTCLoss(blank=vocab_size)\n",
    "optimizer = torch.optim.Adam(model.parameters(), lr=0.001)\n",
    "\n",
    "print(model)"
   ]
  },
  {
   "cell_type": "code",
   "execution_count": 25,
   "metadata": {},
   "outputs": [
    {
     "name": "stdout",
     "output_type": "stream",
     "text": [
      "Training with 61374, validating with 17537, and testing with 8767\n"
     ]
    }
   ],
   "source": [
    "# Load primus\n",
    "primus = PriMuS(corpus, set_path, word2int, semantic, img_height, \n",
    "                batch_size, img_channels, \n",
    "                train_split=train_split, test_split=test_split, shuffle=False, \n",
    "                distorted=distorted, device=device)"
   ]
  },
  {
   "cell_type": "code",
   "execution_count": 26,
   "metadata": {},
   "outputs": [],
   "source": [
    "def train(model, optimizer, dataloader, epochs, checkpoint):\n",
    "    ctc_train = []\n",
    "    ctc_eval = []\n",
    "    \n",
    "    best_val = 10000\n",
    "\n",
    "    for epoch in range(epochs):  \n",
    "        print(\"Epoch:\", epoch+1)\n",
    "        \n",
    "        for i in range(dataloader.training_iterations):\n",
    "            batch, labels, label_lengths = dataloader.next_batch()\n",
    "\n",
    "            model.train()\n",
    "            optimizer.zero_grad()\n",
    "\n",
    "            preds = model(batch)\n",
    "            batch_lengths = Variable(torch.IntTensor([preds.size(0)] * preds.size(1))).to(device)\n",
    "\n",
    "            del batch\n",
    "\n",
    "            loss = loss_function(preds, labels.detach(), batch_lengths.detach(), label_lengths.detach())\n",
    "\n",
    "            del labels\n",
    "            del batch_lengths\n",
    "            del label_lengths\n",
    "\n",
    "            loss.backward()\n",
    "            optimizer.step()\n",
    "            \n",
    "            del preds\n",
    "            \n",
    "            if i % 100 == 99 or i == dataloader.training_iterations - 1:\n",
    "                ctc_train.append(loss.item()) \n",
    "                print(f'Iteration: {i+1:4}\\nLoss: {ctc_train[-1]:10.8f}')\n",
    "            del loss\n",
    "\n",
    "            if i % 100 == 99 or i == dataloader.training_iterations - 1:\n",
    "                model.eval()\n",
    "                with torch.no_grad():\n",
    "                    eval_data, eval_labels, eval_label_lengths = dataloader.next_batch(\"eval\")\n",
    "\n",
    "                    eval_preds = model(eval_data)\n",
    "\n",
    "                    del eval_data\n",
    "\n",
    "                    eval_lengths = Variable(torch.IntTensor([eval_preds.size(0)] * eval_preds.size(1))).to(device)\n",
    "                    error = loss_function(eval_preds, eval_labels.detach(), eval_lengths.detach(), eval_label_lengths.detach())\n",
    "\n",
    "                    del eval_labels\n",
    "                    del eval_label_lengths\n",
    "                    del eval_lengths\n",
    "                    del eval_preds\n",
    "\n",
    "                    err = error.item()\n",
    "                    del error\n",
    "                        \n",
    "                    ctc_eval.append(err)\n",
    "\n",
    "                    if err < best_val:\n",
    "                        best_val = err\n",
    "                        torch.save(model.state_dict(), checkpoint)\n",
    "\n",
    "                print(f'Validation loss: {err:10.8f}')\n",
    "                del err\n",
    "        \n",
    "    return (ctc_train, ctc_eval)"
   ]
  },
  {
   "cell_type": "code",
   "execution_count": 27,
   "metadata": {},
   "outputs": [],
   "source": [
    "if not prepared:\n",
    "    ctc_train, ctc_eval = train(model, optimizer, primus, epochs, save_model)\n",
    "    \n",
    "    iterations = [100*x for x in range(len(ctc_train))]\n",
    "\n",
    "    plt.plot(iterations, ctc_train, label='Training')\n",
    "    plt.plot(iterations, ctc_eval, label='Validation')\n",
    "\n",
    "    plt.title('CTC Loss')\n",
    "    plt.xlabel('Iterations')\n",
    "    plt.ylabel('Loss')\n",
    "    plt.legend()\n",
    "\n",
    "    plt.show()"
   ]
  },
  {
   "cell_type": "code",
   "execution_count": 28,
   "metadata": {},
   "outputs": [],
   "source": [
    "def test(model, dataloader):\n",
    "    with torch.no_grad():\n",
    "        seq_err = 0\n",
    "        symbol_err = 0\n",
    "        symbol_pct_err = 0\n",
    "\n",
    "        for _ in range(dataloader.test_iterations):\n",
    "            test_batch, test_labels, test_label_lengths = dataloader.next_batch(\"test\")\n",
    "\n",
    "            test_preds = model(test_batch).argmax(2)\n",
    "            del test_batch\n",
    "\n",
    "            test_labels = tensor_to_np_array(test_labels)\n",
    "            test_label_lengths = tensor_to_np_array(test_label_lengths)\n",
    "            test_preds = tensor_to_np_array(test_preds).transpose(1,0)\n",
    "\n",
    "            curr_idx = 0\n",
    "            for i in range(dataloader.batch_size):\n",
    "                length = test_label_lengths[i]\n",
    "                \n",
    "                pred = test_preds[i]\n",
    "                label = test_labels[curr_idx:curr_idx+length]\n",
    "                \n",
    "                pred = np_to_string(pred, int2word, vocab_size)\n",
    "                label = [int2word[x] for x in label]\n",
    "\n",
    "                err = levenshtein_pct(pred, label)\n",
    "                if err > 0:\n",
    "                    seq_err += 1\n",
    "\n",
    "                symbol_err += err\n",
    "                symbol_pct_err += sequence_levenshtein(pred, label)\n",
    "\n",
    "                curr_idx += length\n",
    "\n",
    "\n",
    "            del test_labels\n",
    "            del test_preds\n",
    "            del test_label_lengths\n",
    "\n",
    "        dataset_size = dataloader.test_iterations * dataloader.batch_size\n",
    "        seq_err /= dataset_size\n",
    "        symbol_err /= dataset_size\n",
    "        symbol_pct_err /= dataset_size\n",
    "        \n",
    "        del dataset_size\n",
    "        \n",
    "        print(f'Accuracy: {((1-seq_err)*100):3.2f}%')\n",
    "        print(f'Symbol error rate: {(symbol_err*100):3.2f}%')\n",
    "        print(f'Symbol confusion rate: {(symbol_pct_err*100):3.2f}%')"
   ]
  },
  {
   "cell_type": "code",
   "execution_count": 22,
   "metadata": {},
   "outputs": [
    {
     "name": "stdout",
     "output_type": "stream",
     "text": [
      "Accuracy: 8.51%\n",
      "Symbol error rate: 18.20%\n",
      "Symbol confusion rate: 12.88%\n"
     ]
    }
   ],
   "source": [
    "test(model, primus)"
   ]
  },
  {
   "cell_type": "code",
   "execution_count": 29,
   "metadata": {},
   "outputs": [
    {
     "data": {
      "text/plain": [
       "<matplotlib.image.AxesImage at 0x1ca847762b0>"
      ]
     },
     "execution_count": 29,
     "metadata": {},
     "output_type": "execute_result"
    },
    {
     "data": {
      "image/png": "[encoded data removed]",
      "text/plain": [
       "<Figure size 432x288 with 1 Axes>"
      ]
     },
     "metadata": {
      "needs_background": "light"
     },
     "output_type": "display_data"
    }
   ],
   "source": [
    "sample_path = \"Data/Example/000051652-1_2_1_distorted.jpg\" if distorted else \"Data/Example/000051652-1_2_1.png\"\n",
    "test_img = cv2.imread(sample_path,False)\n",
    "plt.imshow(test_img)"
   ]
  },
  {
   "cell_type": "code",
   "execution_count": 30,
   "metadata": {},
   "outputs": [
    {
     "data": {
      "text/plain": [
       "<matplotlib.image.AxesImage at 0x1ca8485ec10>"
      ]
     },
     "execution_count": 30,
     "metadata": {},
     "output_type": "execute_result"
    },
    {
     "data": {
      "image/png": "[encoded data removed]",
      "text/plain": [
       "<Figure size 432x288 with 1 Axes>"
      ]
     },
     "metadata": {
      "needs_background": "light"
     },
     "output_type": "display_data"
    }
   ],
   "source": [
    "test_img = resize(test_img, 128)\n",
    "test_img = normalize(test_img)\n",
    "plt.imshow(test_img)"
   ]
  },
  {
   "cell_type": "code",
   "execution_count": 31,
   "metadata": {},
   "outputs": [
    {
     "data": {
      "text/plain": [
       "(1, 1, 128, 859)"
      ]
     },
     "execution_count": 31,
     "metadata": {},
     "output_type": "execute_result"
    }
   ],
   "source": [
    "test_img = test_img.reshape((1,1,128,-1))\n",
    "test_img.shape"
   ]
  },
  {
   "cell_type": "code",
   "execution_count": 32,
   "metadata": {},
   "outputs": [
    {
     "data": {
      "text/plain": [
       "torch.Size([424, 1])"
      ]
     },
     "execution_count": 32,
     "metadata": {},
     "output_type": "execute_result"
    }
   ],
   "source": [
    "test_torch = torch.tensor(test_img, dtype=torch.float32).to(device)\n",
    "\n",
    "pred = model(test_torch).argmax(2)\n",
    "\n",
    "pred.size()"
   ]
  },
  {
   "cell_type": "code",
   "execution_count": 33,
   "metadata": {},
   "outputs": [
    {
     "data": {
      "text/plain": [
       "array([ 65,   5,   3,  15, 758,  85,  91, 758, 758, 758, 758, 758,  86,\n",
       "       758,  89, 232, 758, 758, 758, 758, 758, 758, 758, 758, 758, 758,\n",
       "       758, 758, 758, 758, 758, 758, 758, 758, 758, 758, 758, 758, 758,\n",
       "       758, 758, 758, 758, 758, 758, 758, 758, 758, 758, 758, 758, 758,\n",
       "       758, 758, 758, 758, 758, 758, 758, 758, 758, 758, 758, 758, 758,\n",
       "       758, 758, 758, 758, 758, 758, 758, 758, 758, 758, 758, 758, 758,\n",
       "       758, 758, 758, 758, 758, 758, 758, 758, 758, 758, 758, 758, 758,\n",
       "       758, 758, 758, 758, 758, 758, 758, 758, 758, 758, 758, 758, 758,\n",
       "       758, 758, 758, 758, 758, 758, 758, 758, 758, 758, 758, 758, 758,\n",
       "       758, 758, 758, 758, 758, 758, 758, 758, 758, 758, 758, 758, 758,\n",
       "       758, 758, 758, 758, 758, 758, 758, 758, 758, 758, 758, 758, 758,\n",
       "       758, 758, 758, 758, 758, 758, 758, 758, 758, 758, 758, 758, 758,\n",
       "       758, 758, 758, 758, 758, 758, 758, 758, 758, 758, 758, 758, 758,\n",
       "       758, 758, 758, 758, 758, 758, 758, 758, 758, 758, 758, 758, 758,\n",
       "       758, 758, 758, 758, 758, 758, 758, 758, 758, 758, 758, 758, 758,\n",
       "       758, 758, 758, 758, 758, 758, 758, 758, 758, 758, 758, 758, 758,\n",
       "       758, 758, 758, 758, 758, 758, 758, 758, 758, 758, 758, 758, 758,\n",
       "       758, 758, 758, 758, 758, 758, 758, 758, 758, 758, 758, 758, 758,\n",
       "       758, 758, 758, 758, 758, 758, 758, 758, 758, 758, 758, 758, 758,\n",
       "       758, 758, 758, 758, 758, 758, 758, 758, 758, 758, 758, 758, 758,\n",
       "       758, 758, 758, 758, 758, 758, 758, 758, 758, 758, 758, 758, 758,\n",
       "       758, 758, 758, 758, 758, 758, 758, 758,  64,  64, 711, 711, 758,\n",
       "       758, 708, 758, 572, 758,  64,  64, 631, 113, 758, 758, 758, 570,\n",
       "        64,  64, 644, 114, 114, 758, 758, 573, 758,  64,  64, 584, 758,\n",
       "       584, 758, 758, 711, 758,  64, 758, 758, 758, 758, 758, 758, 758,\n",
       "       758, 758, 758, 758, 758, 758, 758, 758, 758, 758, 758, 758, 758,\n",
       "       758, 758, 758, 758, 758, 758, 758, 758, 758, 758, 758, 758, 758,\n",
       "       758, 758, 758, 758, 758, 758, 758, 758, 758, 758, 758, 758, 758,\n",
       "       758, 758, 758, 758, 758, 758, 758, 758, 758, 758, 758, 758, 758,\n",
       "       758, 758, 758, 758, 758, 758, 758, 758, 758, 758, 758, 758, 758,\n",
       "       758, 758, 758, 758, 758, 758, 758, 758, 758, 758, 758, 758, 758,\n",
       "       758, 758, 758, 758, 758, 758, 758, 758, 758, 758, 758, 758, 758,\n",
       "       758, 758, 758, 758, 758, 758, 758, 758], dtype=int64)"
      ]
     },
     "execution_count": 33,
     "metadata": {},
     "output_type": "execute_result"
    }
   ],
   "source": [
    "pred_np = tensor_to_np_array(pred).flatten()\n",
    "pred_np"
   ]
  },
  {
   "cell_type": "code",
   "execution_count": 34,
   "metadata": {},
   "outputs": [
    {
     "data": {
      "text/plain": [
       "['clef.C-L1',\n",
       " 'accidental.flat-L4',\n",
       " 'accidental.flat-L2',\n",
       " 'accidental.flat-S3',\n",
       " 'digit.2-L4',\n",
       " 'digit.4-L2',\n",
       " 'digit.2-S5',\n",
       " 'digit.3-S5',\n",
       " 'multirest-L3',\n",
       " 'barline-L1',\n",
       " 'rest.quarter-L3',\n",
       " 'rest.eighth-L3',\n",
       " 'note.eighth-L4',\n",
       " 'barline-L1',\n",
       " 'note.quarter-L4',\n",
       " 'dot-S4',\n",
       " 'note.eighth-L3',\n",
       " 'barline-L1',\n",
       " 'note.quarter-S5',\n",
       " 'dot-S5',\n",
       " 'note.eighth-L5',\n",
       " 'barline-L1',\n",
       " 'note.eighth-S4',\n",
       " 'note.eighth-S4',\n",
       " 'rest.quarter-L3',\n",
       " 'barline-L1']"
      ]
     },
     "execution_count": 34,
     "metadata": {},
     "output_type": "execute_result"
    }
   ],
   "source": [
    "sample_label = 'Data/Example/000051652-1_2_1.semantic' if semantic else 'Data/Example/000051652-1_2_1.agnostic'\n",
    "sample_gt_file = open(sample_label, 'r')\n",
    "test_label = sample_gt_file.readline().rstrip().split('\\t')\n",
    "sample_gt_file.close()\n",
    "\n",
    "test_label"
   ]
  },
  {
   "cell_type": "code",
   "execution_count": 35,
   "metadata": {},
   "outputs": [
    {
     "data": {
      "text/plain": [
       "['clef.C-L1',\n",
       " 'accidental.flat-L4',\n",
       " 'accidental.flat-L2',\n",
       " 'accidental.flat-S3',\n",
       " 'digit.2-L4',\n",
       " 'digit.4-L2',\n",
       " 'digit.2-S5',\n",
       " 'digit.3-S5',\n",
       " 'multirest-L3',\n",
       " 'barline-L1',\n",
       " 'rest.quarter-L3',\n",
       " 'rest.eighth-L3',\n",
       " 'note.eighth-L4',\n",
       " 'barline-L1',\n",
       " 'note.quarter-L4',\n",
       " 'dot-S4',\n",
       " 'note.eighth-L3',\n",
       " 'barline-L1',\n",
       " 'note.quarter-S5',\n",
       " 'dot-S5',\n",
       " 'note.eighth-L5',\n",
       " 'barline-L1',\n",
       " 'note.eighth-S4',\n",
       " 'note.eighth-S4',\n",
       " 'rest.quarter-L3',\n",
       " 'barline-L1']"
      ]
     },
     "execution_count": 35,
     "metadata": {},
     "output_type": "execute_result"
    }
   ],
   "source": [
    "pred_str = np_to_string(pred_np, int2word, vocab_size)\n",
    "pred_str"
   ]
  },
  {
   "cell_type": "code",
   "execution_count": 36,
   "metadata": {},
   "outputs": [
    {
     "data": {
      "text/plain": [
       "0.0"
      ]
     },
     "execution_count": 36,
     "metadata": {},
     "output_type": "execute_result"
    }
   ],
   "source": [
    "sequence_levenshtein(pred_str, test_label)"
   ]
  },
  {
   "cell_type": "code",
   "execution_count": 37,
   "metadata": {},
   "outputs": [
    {
     "data": {
      "text/plain": [
       "0"
      ]
     },
     "execution_count": 37,
     "metadata": {},
     "output_type": "execute_result"
    }
   ],
   "source": [
    "levenshtein(pred_str, test_label)"
   ]
  },
  {
   "cell_type": "code",
   "execution_count": null,
   "metadata": {},
   "outputs": [],
   "source": []
  }
 ],
 "metadata": {
  "kernelspec": {
   "display_name": "bkai",
   "language": "python",
   "name": "bkai"
  },
  "language_info": {
   "codemirror_mode": {
    "name": "ipython",
    "version": 3
   },
   "file_extension": ".py",
   "mimetype": "text/x-python",
   "name": "python",
   "nbconvert_exporter": "python",
   "pygments_lexer": "ipython3",
   "version": "3.8.11"
  }
 },
 "nbformat": 4,
 "nbformat_minor": 4
}
